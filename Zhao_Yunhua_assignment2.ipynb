{
 "cells": [
  {
   "cell_type": "code",
   "execution_count": 1,
   "id": "tired-cookbook",
   "metadata": {},
   "outputs": [],
   "source": [
    "import random\n",
    "random.seed(10)\n",
    "import math\n",
    "import numpy as np\n",
    "import pandas as pd\n",
    "import seaborn as sns\n",
    "import matplotlib.pyplot as plt\n",
    "from scipy.stats import binom, beta, percentileofscore, pearsonr\n",
    "from collections import defaultdict\n",
    "\n",
    "import warnings\n",
    "from pandas.plotting import scatter_matrix\n",
    "\n",
    "from sklearn.utils.validation import column_or_1d\n",
    "from sklearn.preprocessing import PolynomialFeatures\n"
   ]
  },
  {
   "cell_type": "markdown",
   "id": "standard-breakfast",
   "metadata": {},
   "source": [
    "# Part A: Model Code [40 pts]"
   ]
  },
  {
   "cell_type": "markdown",
   "id": "dutch-montreal",
   "metadata": {},
   "source": [
    "### 1. Implement the following function that generates the polynomial and interaction features for a given degree of the polynomial"
   ]
  },
  {
   "cell_type": "markdown",
   "id": "deluxe-fight",
   "metadata": {},
   "source": [
    "Before implement, first check what the polynomialfeature means"
   ]
  },
  {
   "cell_type": "code",
   "execution_count": 2,
   "id": "composite-provider",
   "metadata": {},
   "outputs": [
    {
     "data": {
      "text/plain": [
       "array([[0, 1],\n",
       "       [2, 3],\n",
       "       [4, 5]])"
      ]
     },
     "execution_count": 2,
     "metadata": {},
     "output_type": "execute_result"
    }
   ],
   "source": [
    "X = np.arange(6).reshape(3,2)\n",
    "X"
   ]
  },
  {
   "cell_type": "code",
   "execution_count": 3,
   "id": "engaged-transport",
   "metadata": {},
   "outputs": [],
   "source": [
    "poly = PolynomialFeatures(1) "
   ]
  },
  {
   "cell_type": "code",
   "execution_count": 4,
   "id": "incoming-complexity",
   "metadata": {},
   "outputs": [
    {
     "data": {
      "text/plain": [
       "array([[1., 0., 1.],\n",
       "       [1., 2., 3.],\n",
       "       [1., 4., 5.]])"
      ]
     },
     "execution_count": 4,
     "metadata": {},
     "output_type": "execute_result"
    }
   ],
   "source": [
    "poly.fit_transform(X)                            # new matrix adds a column which all eles are 1=a^0=b^0"
   ]
  },
  {
   "cell_type": "code",
   "execution_count": 5,
   "id": "institutional-clause",
   "metadata": {},
   "outputs": [],
   "source": [
    "poly = PolynomialFeatures(2)                      # [a, b]->[1, a, b, a^2, ab, b^2]"
   ]
  },
  {
   "cell_type": "code",
   "execution_count": 6,
   "id": "focal-jimmy",
   "metadata": {},
   "outputs": [
    {
     "data": {
      "text/plain": [
       "array([[ 1.,  0.,  1.,  0.,  0.,  1.],\n",
       "       [ 1.,  2.,  3.,  4.,  6.,  9.],\n",
       "       [ 1.,  4.,  5., 16., 20., 25.]])"
      ]
     },
     "execution_count": 6,
     "metadata": {},
     "output_type": "execute_result"
    }
   ],
   "source": [
    "poly.fit_transform(X)"
   ]
  },
  {
   "cell_type": "code",
   "execution_count": 7,
   "id": "derived-segment",
   "metadata": {},
   "outputs": [],
   "source": [
    "poly = PolynomialFeatures(3)                         # [a, b]->[1, a, b, a^2, ab, b^2, a^3, a^2b, ab^2, b^3]"
   ]
  },
  {
   "cell_type": "code",
   "execution_count": 8,
   "id": "occupational-sixth",
   "metadata": {},
   "outputs": [
    {
     "data": {
      "text/plain": [
       "array([[  1.,   0.,   1.,   0.,   0.,   1.,   0.,   0.,   0.,   1.],\n",
       "       [  1.,   2.,   3.,   4.,   6.,   9.,   8.,  12.,  18.,  27.],\n",
       "       [  1.,   4.,   5.,  16.,  20.,  25.,  64.,  80., 100., 125.]])"
      ]
     },
     "execution_count": 8,
     "metadata": {},
     "output_type": "execute_result"
    }
   ],
   "source": [
    "poly.fit_transform(X)"
   ]
  },
  {
   "cell_type": "code",
   "execution_count": 9,
   "id": "crucial-simpson",
   "metadata": {},
   "outputs": [],
   "source": [
    "poly = PolynomialFeatures(interaction_only=True)"
   ]
  },
  {
   "cell_type": "code",
   "execution_count": 10,
   "id": "distributed-prompt",
   "metadata": {},
   "outputs": [
    {
     "data": {
      "text/plain": [
       "array([[ 1.,  0.,  1.,  0.],\n",
       "       [ 1.,  2.,  3.,  6.],\n",
       "       [ 1.,  4.,  5., 20.]])"
      ]
     },
     "execution_count": 10,
     "metadata": {},
     "output_type": "execute_result"
    }
   ],
   "source": [
    "poly.fit_transform(X)"
   ]
  },
  {
   "cell_type": "code",
   "execution_count": 11,
   "id": "manufactured-denver",
   "metadata": {},
   "outputs": [],
   "source": [
    "poly = PolynomialFeatures(4)"
   ]
  },
  {
   "cell_type": "code",
   "execution_count": 12,
   "id": "valuable-minority",
   "metadata": {},
   "outputs": [
    {
     "data": {
      "text/plain": [
       "array([[  1.,   0.,   1.,   0.,   0.,   1.,   0.,   0.,   0.,   1.,   0.,\n",
       "          0.,   0.,   0.,   1.],\n",
       "       [  1.,   2.,   3.,   4.,   6.,   9.,   8.,  12.,  18.,  27.,  16.,\n",
       "         24.,  36.,  54.,  81.],\n",
       "       [  1.,   4.,   5.,  16.,  20.,  25.,  64.,  80., 100., 125., 256.,\n",
       "        320., 400., 500., 625.]])"
      ]
     },
     "execution_count": 12,
     "metadata": {},
     "output_type": "execute_result"
    }
   ],
   "source": [
    "poly.fit_transform(X)"
   ]
  },
  {
   "cell_type": "code",
   "execution_count": 13,
   "id": "suspended-forty",
   "metadata": {},
   "outputs": [
    {
     "data": {
      "text/plain": [
       "[[4, 5, 6], [8, 1, 10], [7, 12, 5]]"
      ]
     },
     "execution_count": 13,
     "metadata": {},
     "output_type": "execute_result"
    }
   ],
   "source": [
    "test_list = [[4, 5, 6], [8, 1, 10], [7, 12, 5]] \n",
    "test_list"
   ]
  },
  {
   "cell_type": "code",
   "execution_count": 14,
   "id": "spanish-matrix",
   "metadata": {},
   "outputs": [],
   "source": [
    "res = [sub[2] for sub in test_list] "
   ]
  },
  {
   "cell_type": "code",
   "execution_count": 15,
   "id": "iraqi-scoop",
   "metadata": {},
   "outputs": [
    {
     "data": {
      "text/plain": [
       "[6, 10, 5]"
      ]
     },
     "execution_count": 15,
     "metadata": {},
     "output_type": "execute_result"
    }
   ],
   "source": [
    "res"
   ]
  },
  {
   "cell_type": "code",
   "execution_count": 16,
   "id": "green-musical",
   "metadata": {},
   "outputs": [],
   "source": [
    "one_ele = [2]*5"
   ]
  },
  {
   "cell_type": "code",
   "execution_count": 17,
   "id": "level-tuition",
   "metadata": {},
   "outputs": [
    {
     "data": {
      "text/plain": [
       "[2, 2, 2, 2, 2]"
      ]
     },
     "execution_count": 17,
     "metadata": {},
     "output_type": "execute_result"
    }
   ],
   "source": [
    "one_ele"
   ]
  },
  {
   "cell_type": "code",
   "execution_count": 18,
   "id": "sonic-pattern",
   "metadata": {},
   "outputs": [
    {
     "data": {
      "text/plain": [
       "[4, 4, 4, 4, 4]"
      ]
     },
     "execution_count": 18,
     "metadata": {},
     "output_type": "execute_result"
    }
   ],
   "source": [
    "b = [i ** 2 for i in one_ele]\n",
    "b"
   ]
  },
  {
   "cell_type": "code",
   "execution_count": 19,
   "id": "viral-slope",
   "metadata": {},
   "outputs": [],
   "source": [
    "def polynomialFeatures(X, degree):\n",
    "    X_transpose = X.transpose()\n",
    "    poly_feature = []\n",
    "\n",
    "    if(1 == degree):\n",
    "        poly_feature.append([1]*len(X))\n",
    "        for rw in X_transpose:\n",
    "            poly_feature.append([i for i in rw])\n",
    "#         print(poly_feature[0])\n",
    "#         print(poly_feature[1])\n",
    "#         print(poly_feature[2])\n",
    "    elif(2 == degree):\n",
    "        poly_feature.append([1]*len(X))\n",
    "        for rw in X_transpose:\n",
    "            poly_feature.append([i for i in rw])\n",
    "        for rw in range(len(X_transpose)):\n",
    "            poly_feature.append([a ** 2 for a in X_transpose[rw]])\n",
    "            for rw_after in X_transpose[rw+1: ]:\n",
    "                poly_feature.append([X_transpose[rw][b]*rw_after[b] for b in range(len(X_transpose[rw]))])\n",
    "\n",
    "    else:\n",
    "        print(\"do it feature,similar with degree==2 logical design\")\n",
    "        return\n",
    "    rez = [[poly_feature[j][i] for j in range(len(poly_feature))] for i in range(len(poly_feature[0]))] \n",
    "    return rez\n",
    "                "
   ]
  },
  {
   "cell_type": "code",
   "execution_count": 20,
   "id": "sudden-adams",
   "metadata": {},
   "outputs": [
    {
     "name": "stdout",
     "output_type": "stream",
     "text": [
      "[[1, 0, 1, 0, 0, 1], [1, 2, 3, 4, 6, 9], [1, 4, 5, 16, 20, 25]]\n"
     ]
    }
   ],
   "source": [
    "poly = polynomialFeatures(X,2)\n",
    "print(poly)"
   ]
  },
  {
   "cell_type": "code",
   "execution_count": 21,
   "id": "loose-bruce",
   "metadata": {},
   "outputs": [
    {
     "name": "stdout",
     "output_type": "stream",
     "text": [
      "[[1, 0, 1], [1, 2, 3], [1, 4, 5]]\n"
     ]
    }
   ],
   "source": [
    "poly = polynomialFeatures(X,1)\n",
    "print(poly)"
   ]
  },
  {
   "cell_type": "markdown",
   "id": "respected-ireland",
   "metadata": {},
   "source": [
    "### 2. Implement the following function to calculate and return the mean squared error (mse) of two vectors."
   ]
  },
  {
   "cell_type": "code",
   "execution_count": 22,
   "id": "polar-violation",
   "metadata": {},
   "outputs": [],
   "source": [
    "def mse(Y_true, Y_pred):\n",
    "    n = len(Y_true)\n",
    "    cost = (Y_true-Y_pred)**2\n",
    "    \n",
    "    return np.sum(cost)/n"
   ]
  },
  {
   "cell_type": "code",
   "execution_count": 23,
   "id": "professional-subsection",
   "metadata": {},
   "outputs": [
    {
     "name": "stdout",
     "output_type": "stream",
     "text": [
      "(3,)\n",
      "(3,)\n",
      "1.0\n"
     ]
    }
   ],
   "source": [
    "a = [1,2 ,3]\n",
    "b = column_or_1d([2,3,2])\n",
    "print(b.shape)\n",
    "print(np.array(a).shape)\n",
    "print(mse(a,b))"
   ]
  },
  {
   "cell_type": "markdown",
   "id": "alternate-pharmacology",
   "metadata": {},
   "source": [
    "### 3. Implement the following function to compute training and validation errors.  \n",
    "It will be used to plot learning curves. The function takes the feature matrix X (usually the training data matrix) and the training size (from the “train_size” parameter) and by using cross-validation computes the average mse for the training fold and the validation fold. It iterates through the entire X with an increment step of the “train_size”. [10 pts]"
   ]
  },
  {
   "cell_type": "code",
   "execution_count": 24,
   "id": "narrow-bosnia",
   "metadata": {},
   "outputs": [],
   "source": [
    "# seperate data into interval samples function\n",
    "def s_partition(data, label, s):\n",
    "    data_list = []\n",
    "    label_list = []\n",
    "    interval = int(len(data)/s)\n",
    "    \n",
    "    temp_data = []\n",
    "    temp_label = []\n",
    "    for ind in range(len(data)):        \n",
    "        temp_data.append(data[ind])\n",
    "        temp_label.append(label[ind])\n",
    "        \n",
    "        if(0 == (ind+1)%interval):\n",
    "            data_list.append(temp_data)\n",
    "            label_list.append(temp_label)\n",
    "            temp_data = []\n",
    "            temp_label = []\n",
    "        \n",
    "    \n",
    "    return data_list, label_list\n",
    "    "
   ]
  },
  {
   "cell_type": "code",
   "execution_count": 25,
   "id": "close-casino",
   "metadata": {},
   "outputs": [],
   "source": [
    "# cross validation function\n",
    "def sFold(folds, data, labels, model, model_args, error_fuction, learning_rate, epochs, tol, regularizer, lamda, kwargs):\n",
    "    if(1 == folds):\n",
    "        predict_label = []\n",
    "        exp_label = []\n",
    "        ave_arr = []\n",
    "        model.fit(data, labels, model_args)\n",
    "        predct = model.predict(data)\n",
    "        \n",
    "        predict_label.append(predct)\n",
    "        exp_label.append(labels)\n",
    "        \n",
    "        err = error_fuction(predct, labels)\n",
    "        ave_arr.append(err)\n",
    "    elif(folds<1):\n",
    "        print(\"Invalid folds number, the least is 1\")\n",
    "        return {}\n",
    "    else:        \n",
    "#         print(data)\n",
    "#         print(len(data))\n",
    "        data_list, label_list = s_partition(data, labels, folds)\n",
    "        #print(np.array(data_list).shape)\n",
    "\n",
    "        ret = {}\n",
    "        predict_label_train = []\n",
    "        predict_label_test = []\n",
    "        exp_label_test = []\n",
    "        exp_label_train = []\n",
    "        ave_arr_test = []\n",
    "        ave_arr_train = []\n",
    "        param = []\n",
    "\n",
    "        for ind in range(folds):\n",
    "            train_x = []\n",
    "            train_y = []\n",
    "            test_x = []\n",
    "            test_y = []\n",
    "            for i in range(folds):\n",
    "                if(ind != i):\n",
    "                    train_x = train_x + data_list[i]\n",
    "                    train_y = train_y + label_list[i]\n",
    "                else:\n",
    "                    test_x = test_x + data_list[i]\n",
    "                    test_y = test_y + label_list[i]\n",
    "\n",
    "            print(np.array(train_x).shape)\n",
    "            model.fit(train_x, train_y, learning_rate, epochs, tol, regularizer, lamda, kwargs)\n",
    "            predct_test = model.predict(test_x)\n",
    "            predct_train = model.predict(train_x)\n",
    "\n",
    "            predict_label_test.append(predct_test)\n",
    "            predict_label_train.append(predct_train)\n",
    "            exp_label_test.append(test_y)\n",
    "            exp_label_train.append(train_y)\n",
    "\n",
    "            err_test = error_fuction(predct_test, test_y)\n",
    "            err_train = error_fuction(predct_train, train_y)\n",
    "\n",
    "            ave_arr_test.append(err_test)\n",
    "            ave_arr_train.append(err_train)\n",
    "            param.append(model.parameters)\n",
    "\n",
    "    ret = {\"Expected_test_labels\": exp_label_test, \"Predicted_test_labels\": predict_label_test, \n",
    "           \"Expected_train_labels\": exp_label_train, \"Predicted_train_labels\": predict_label_train,\n",
    "           \"Average_test_error\": np.sum(np.array(ave_arr_test))/len(ave_arr_test), \"Average_train_error\": np.sum(np.array(ave_arr_train))/len(ave_arr_train), \n",
    "          \"parameters\": param}\n",
    "    return ret"
   ]
  },
  {
   "cell_type": "code",
   "execution_count": 26,
   "id": "documented-franklin",
   "metadata": {},
   "outputs": [],
   "source": [
    "# compute training and validation errors\n",
    "def train_val_mse(model, X, Y, cv, train_size, learning_rate, epochs, tol, regularizer, lamba, kwargs):\n",
    "    # get the iteration and interval size\n",
    "    if(train_size>0 and train_size<=1):\n",
    "        interval = len(X)*train_size\n",
    "    else:\n",
    "        interval = train_size\n",
    "    if((len(X)/interval) > (len(X)//interval)):\n",
    "        iteration = len(X)//interval+1\n",
    "    else:\n",
    "        iteration = len(X)//interval\n",
    "    # get the intervals  from X\n",
    "    data_list, label_list = s_partition(X, Y, iteration)\n",
    "    \n",
    "    # cross validation with different samples\n",
    "    \n",
    "    train_err = []\n",
    "    test_err = []\n",
    "    for ite in range(iteration):\n",
    "#         print(\"============================================================================\")\n",
    "#         print(np.array(label_list[:ite+1]).T.shape)\n",
    "#         print(np.array(data_list[:ite+1]).shape)\n",
    "#         print(np.array(data_list[:ite+1]).reshape((-1 ,np.array(data_list[:ite+1]).shape[2])).shape)\n",
    "        new_data = np.array(data_list[:ite+1]).reshape(-1 ,np.array(data_list[:ite+1]).shape[2])\n",
    "        new_label = np.array(label_list[:ite+1]).reshape(-1)\n",
    "\n",
    "        ret = sFold(cv, new_data.tolist(), new_label.tolist(), model, kwargs, mse, learning_rate, epochs, tol, regularizer, lamba, kwargs)\n",
    "    \n",
    "        train_err.append(ret['Average_train_error'])\n",
    "        test_err.append(ret['Average_test_error'])\n",
    "    return train_err, test_err        "
   ]
  },
  {
   "cell_type": "markdown",
   "id": "printable-blackjack",
   "metadata": {},
   "source": [
    "### 5. Implement a Linear_Regression model class. It should have the following three methods. Note the that “fit” method should implement the batch gradient descent algorithm. [23pts]"
   ]
  },
  {
   "cell_type": "markdown",
   "id": "scientific-retro",
   "metadata": {},
   "source": [
    "a. fit(self, X, Y, learning_rate=0.01, epochs=1000, tol=None, regularizer=None, lambda=0.0,**kwargs)  \n",
    "b. predict(self, X)  \n",
    "c. __init__(self)"
   ]
  },
  {
   "cell_type": "code",
   "execution_count": 27,
   "id": "experimental-knight",
   "metadata": {},
   "outputs": [
    {
     "name": "stdout",
     "output_type": "stream",
     "text": [
      "[ 0.01595069  0.07201385  0.06793343  0.11247819 -0.17898734]\n",
      "[ 0.01        0.01595069  0.07201385  0.06793343  0.11247819 -0.17898734]\n"
     ]
    }
   ],
   "source": [
    "theta_hat = np.random.uniform(-0.2, 0.2, 5)\n",
    "print(theta_hat)\n",
    "theta_hat = np.insert(theta_hat, 0, 0.01, axis=0)\n",
    "print(theta_hat)"
   ]
  },
  {
   "cell_type": "code",
   "execution_count": 28,
   "id": "chinese-window",
   "metadata": {},
   "outputs": [
    {
     "name": "stdout",
     "output_type": "stream",
     "text": [
      "[[0.72789781 0.04639679 0.91930277]\n",
      " [0.04568095 0.00385265 0.21716043]\n",
      " [0.61258391 0.55807233 0.51931552]\n",
      " [0.20083653 0.77149692 0.39393303]\n",
      " [0.59535676 0.87641376 0.55500479]\n",
      " [0.16906258 0.07954706 0.99105641]\n",
      " [0.10003189 0.40624798 0.40775895]\n",
      " [0.46979793 0.70710371 0.35442942]\n",
      " [0.61754957 0.13733984 0.75350224]\n",
      " [0.37616111 0.82520654 0.88185412]]\n",
      "[[1.         0.72789781 0.04639679 0.91930277]\n",
      " [1.         0.04568095 0.00385265 0.21716043]\n",
      " [1.         0.61258391 0.55807233 0.51931552]\n",
      " [1.         0.20083653 0.77149692 0.39393303]\n",
      " [1.         0.59535676 0.87641376 0.55500479]\n",
      " [1.         0.16906258 0.07954706 0.99105641]\n",
      " [1.         0.10003189 0.40624798 0.40775895]\n",
      " [1.         0.46979793 0.70710371 0.35442942]\n",
      " [1.         0.61754957 0.13733984 0.75350224]\n",
      " [1.         0.37616111 0.82520654 0.88185412]]\n"
     ]
    }
   ],
   "source": [
    "X = np.random.uniform(size=(10,3))\n",
    "print(X)\n",
    "n,m = X.shape # for generality\n",
    "new_X = np.ones((n,m+1))\n",
    "new_X[:,1:] = X\n",
    "print(new_X)"
   ]
  },
  {
   "cell_type": "code",
   "execution_count": 29,
   "id": "dramatic-surveillance",
   "metadata": {},
   "outputs": [],
   "source": [
    "class Linear_Regression:\n",
    "    def __init__(self):\n",
    "        self.theta = {}\n",
    "           \n",
    "        \n",
    "    def fit(self, X, Y, learning_rate, epochs, tol, regularizer, lamda, kwargs):\n",
    "        \n",
    "        # initial theta_hat\n",
    "        colu_num = np.array(X).shape[1]\n",
    "        theta_hat = np.random.uniform(-0.2, 0.2, colu_num)\n",
    "        theta_hat = np.insert(theta_hat, 0, 0.01, axis=0)\n",
    "        \n",
    "        # add one column 1 to X to match the bias\n",
    "        new_X = np.ones((len(X),colu_num+1))\n",
    "        new_X[:,1:] = X\n",
    "\n",
    "#         print(np.array(new_X).shape)\n",
    "        for epo in range(epochs):\n",
    "            compute_y = np.matmul(new_X, theta_hat)\n",
    "            error = mse(Y, compute_y)\n",
    "            \n",
    "            if(None != tol):\n",
    "                if(epo>0):\n",
    "                    if(error > previous_error - tol):         # error difference smaller than the tol, a stop condition\n",
    "                        break\n",
    "                previous_error = error\n",
    "#             print(\"====================================================\")\n",
    "            \n",
    "            # J' = X.(X.theta-Y)/m\n",
    "            #J_theta_hat = np.matmul(np.transpose(new_X), np.subtract(np.matmul(new_X, theta_hat),Y))/np.array(new_X).shape[1]\n",
    "            new_Y = np.array(Y).reshape(len(Y),)\n",
    "            J_theta_hat = 2/np.array(new_X).shape[1]*new_X.T.dot(new_X.dot(theta_hat)-new_Y)\n",
    "            if(\"l1\" == regularizer):\n",
    "                temp = lamda*np.sign(np.array(theta_hat))/np.array(new_X).shape[1]\n",
    "            else:\n",
    "                temp = lamda*np.array(theta_hat)/np.array(new_X).shape[1]\n",
    "\n",
    "            temp[0] = 0\n",
    "#             print(theta_hat.shape)\n",
    "#             print(temp.shape)\n",
    "#             print(J_theta_hat.shape)\n",
    "            J_theta_hat = learning_rate*(J_theta_hat+temp)\n",
    "\n",
    "                \n",
    "            if(not J_theta_hat.any()):            # if gradient is 0, done\n",
    "                break \n",
    "            \n",
    "            theta_hat = theta_hat-np.array(J_theta_hat)   # update theta_hat\n",
    "\n",
    "        self.theta[kwargs] = theta_hat\n",
    "        self.kwargs = kwargs\n",
    "        self.parameter = [kwargs, learning_rate, epochs, tol, regularizer, lamda]\n",
    "            \n",
    "    def predict(self, X):\n",
    "        colu_num = np.array(X).shape[1]\n",
    "        new_X = np.ones((len(X),colu_num+1))\n",
    "        new_X[:,1:] = X\n",
    "        pred_Y = np.matmul(new_X, self.theta[self.kwargs])\n",
    "        return(pred_Y)\n",
    "    \n",
    "    def parameters(self):\n",
    "        return self.parameter"
   ]
  },
  {
   "cell_type": "code",
   "execution_count": 30,
   "id": "equipped-steps",
   "metadata": {},
   "outputs": [],
   "source": [
    "# model = Linear_Regression()\n",
    "# lamda = [1.0, 0, 0.1, 0.01, 0.001, 0.0001]\n",
    "# learning_rate = [0.1, 0.01, 0.001, 0.001]\n",
    "# regularizer = ['l1', 'l2']\n",
    "\n",
    "# ret_list = []\n",
    "# para_ind = 0\n",
    "# for l in lamda:\n",
    "#     for lr in learning_rate:\n",
    "#         for reg in regularizer:\n",
    "#             ret = sFold(5, train_standard, train_y, model, None, mse, lr, 50, None, reg, l, para_ind)\n",
    "#             ret_list.append(ret)\n",
    "#             para_ind = para_ind+1"
   ]
  },
  {
   "cell_type": "markdown",
   "id": "sexual-affair",
   "metadata": {},
   "source": [
    "# Part B: Data Processing [5 pts]"
   ]
  },
  {
   "cell_type": "markdown",
   "id": "elder-stock",
   "metadata": {},
   "source": [
    "### 6. Read in the winequality-red.csv file as a Pandas data frame."
   ]
  },
  {
   "cell_type": "code",
   "execution_count": 31,
   "id": "frequent-familiar",
   "metadata": {},
   "outputs": [],
   "source": [
    "df = pd.read_csv('winequality-white.csv', sep=\";\")"
   ]
  },
  {
   "cell_type": "code",
   "execution_count": 32,
   "id": "destroyed-tobago",
   "metadata": {},
   "outputs": [
    {
     "data": {
      "text/html": [
       "<div>\n",
       "<style scoped>\n",
       "    .dataframe tbody tr th:only-of-type {\n",
       "        vertical-align: middle;\n",
       "    }\n",
       "\n",
       "    .dataframe tbody tr th {\n",
       "        vertical-align: top;\n",
       "    }\n",
       "\n",
       "    .dataframe thead th {\n",
       "        text-align: right;\n",
       "    }\n",
       "</style>\n",
       "<table border=\"1\" class=\"dataframe\">\n",
       "  <thead>\n",
       "    <tr style=\"text-align: right;\">\n",
       "      <th></th>\n",
       "      <th>fixed acidity</th>\n",
       "      <th>volatile acidity</th>\n",
       "      <th>citric acid</th>\n",
       "      <th>residual sugar</th>\n",
       "      <th>chlorides</th>\n",
       "      <th>free sulfur dioxide</th>\n",
       "      <th>total sulfur dioxide</th>\n",
       "      <th>density</th>\n",
       "      <th>pH</th>\n",
       "      <th>sulphates</th>\n",
       "      <th>alcohol</th>\n",
       "      <th>quality</th>\n",
       "    </tr>\n",
       "  </thead>\n",
       "  <tbody>\n",
       "    <tr>\n",
       "      <th>0</th>\n",
       "      <td>7.0</td>\n",
       "      <td>0.27</td>\n",
       "      <td>0.36</td>\n",
       "      <td>20.7</td>\n",
       "      <td>0.045</td>\n",
       "      <td>45.0</td>\n",
       "      <td>170.0</td>\n",
       "      <td>1.0010</td>\n",
       "      <td>3.00</td>\n",
       "      <td>0.45</td>\n",
       "      <td>8.8</td>\n",
       "      <td>6</td>\n",
       "    </tr>\n",
       "    <tr>\n",
       "      <th>1</th>\n",
       "      <td>6.3</td>\n",
       "      <td>0.30</td>\n",
       "      <td>0.34</td>\n",
       "      <td>1.6</td>\n",
       "      <td>0.049</td>\n",
       "      <td>14.0</td>\n",
       "      <td>132.0</td>\n",
       "      <td>0.9940</td>\n",
       "      <td>3.30</td>\n",
       "      <td>0.49</td>\n",
       "      <td>9.5</td>\n",
       "      <td>6</td>\n",
       "    </tr>\n",
       "    <tr>\n",
       "      <th>2</th>\n",
       "      <td>8.1</td>\n",
       "      <td>0.28</td>\n",
       "      <td>0.40</td>\n",
       "      <td>6.9</td>\n",
       "      <td>0.050</td>\n",
       "      <td>30.0</td>\n",
       "      <td>97.0</td>\n",
       "      <td>0.9951</td>\n",
       "      <td>3.26</td>\n",
       "      <td>0.44</td>\n",
       "      <td>10.1</td>\n",
       "      <td>6</td>\n",
       "    </tr>\n",
       "    <tr>\n",
       "      <th>3</th>\n",
       "      <td>7.2</td>\n",
       "      <td>0.23</td>\n",
       "      <td>0.32</td>\n",
       "      <td>8.5</td>\n",
       "      <td>0.058</td>\n",
       "      <td>47.0</td>\n",
       "      <td>186.0</td>\n",
       "      <td>0.9956</td>\n",
       "      <td>3.19</td>\n",
       "      <td>0.40</td>\n",
       "      <td>9.9</td>\n",
       "      <td>6</td>\n",
       "    </tr>\n",
       "    <tr>\n",
       "      <th>4</th>\n",
       "      <td>7.2</td>\n",
       "      <td>0.23</td>\n",
       "      <td>0.32</td>\n",
       "      <td>8.5</td>\n",
       "      <td>0.058</td>\n",
       "      <td>47.0</td>\n",
       "      <td>186.0</td>\n",
       "      <td>0.9956</td>\n",
       "      <td>3.19</td>\n",
       "      <td>0.40</td>\n",
       "      <td>9.9</td>\n",
       "      <td>6</td>\n",
       "    </tr>\n",
       "  </tbody>\n",
       "</table>\n",
       "</div>"
      ],
      "text/plain": [
       "   fixed acidity  volatile acidity  citric acid  residual sugar  chlorides  \\\n",
       "0            7.0              0.27         0.36            20.7      0.045   \n",
       "1            6.3              0.30         0.34             1.6      0.049   \n",
       "2            8.1              0.28         0.40             6.9      0.050   \n",
       "3            7.2              0.23         0.32             8.5      0.058   \n",
       "4            7.2              0.23         0.32             8.5      0.058   \n",
       "\n",
       "   free sulfur dioxide  total sulfur dioxide  density    pH  sulphates  \\\n",
       "0                 45.0                 170.0   1.0010  3.00       0.45   \n",
       "1                 14.0                 132.0   0.9940  3.30       0.49   \n",
       "2                 30.0                  97.0   0.9951  3.26       0.44   \n",
       "3                 47.0                 186.0   0.9956  3.19       0.40   \n",
       "4                 47.0                 186.0   0.9956  3.19       0.40   \n",
       "\n",
       "   alcohol  quality  \n",
       "0      8.8        6  \n",
       "1      9.5        6  \n",
       "2     10.1        6  \n",
       "3      9.9        6  \n",
       "4      9.9        6  "
      ]
     },
     "execution_count": 32,
     "metadata": {},
     "output_type": "execute_result"
    }
   ],
   "source": [
    "df.head()"
   ]
  },
  {
   "cell_type": "markdown",
   "id": "suited-clarity",
   "metadata": {},
   "source": [
    "###  7. Summarize each of the variables in the dataset in terms of mean, standard deviation, and quartiles. Include this in your report."
   ]
  },
  {
   "cell_type": "code",
   "execution_count": 33,
   "id": "according-determination",
   "metadata": {},
   "outputs": [
    {
     "data": {
      "text/html": [
       "<div>\n",
       "<style scoped>\n",
       "    .dataframe tbody tr th:only-of-type {\n",
       "        vertical-align: middle;\n",
       "    }\n",
       "\n",
       "    .dataframe tbody tr th {\n",
       "        vertical-align: top;\n",
       "    }\n",
       "\n",
       "    .dataframe thead th {\n",
       "        text-align: right;\n",
       "    }\n",
       "</style>\n",
       "<table border=\"1\" class=\"dataframe\">\n",
       "  <thead>\n",
       "    <tr style=\"text-align: right;\">\n",
       "      <th></th>\n",
       "      <th>fixed acidity</th>\n",
       "      <th>volatile acidity</th>\n",
       "      <th>citric acid</th>\n",
       "      <th>residual sugar</th>\n",
       "      <th>chlorides</th>\n",
       "      <th>free sulfur dioxide</th>\n",
       "      <th>total sulfur dioxide</th>\n",
       "      <th>density</th>\n",
       "      <th>pH</th>\n",
       "      <th>sulphates</th>\n",
       "      <th>alcohol</th>\n",
       "      <th>quality</th>\n",
       "    </tr>\n",
       "  </thead>\n",
       "  <tbody>\n",
       "    <tr>\n",
       "      <th>count</th>\n",
       "      <td>4898.000000</td>\n",
       "      <td>4898.000000</td>\n",
       "      <td>4898.000000</td>\n",
       "      <td>4898.000000</td>\n",
       "      <td>4898.000000</td>\n",
       "      <td>4898.000000</td>\n",
       "      <td>4898.000000</td>\n",
       "      <td>4898.000000</td>\n",
       "      <td>4898.000000</td>\n",
       "      <td>4898.000000</td>\n",
       "      <td>4898.000000</td>\n",
       "      <td>4898.000000</td>\n",
       "    </tr>\n",
       "    <tr>\n",
       "      <th>mean</th>\n",
       "      <td>6.854788</td>\n",
       "      <td>0.278241</td>\n",
       "      <td>0.334192</td>\n",
       "      <td>6.391415</td>\n",
       "      <td>0.045772</td>\n",
       "      <td>35.308085</td>\n",
       "      <td>138.360657</td>\n",
       "      <td>0.994027</td>\n",
       "      <td>3.188267</td>\n",
       "      <td>0.489847</td>\n",
       "      <td>10.514267</td>\n",
       "      <td>5.877909</td>\n",
       "    </tr>\n",
       "    <tr>\n",
       "      <th>std</th>\n",
       "      <td>0.843868</td>\n",
       "      <td>0.100795</td>\n",
       "      <td>0.121020</td>\n",
       "      <td>5.072058</td>\n",
       "      <td>0.021848</td>\n",
       "      <td>17.007137</td>\n",
       "      <td>42.498065</td>\n",
       "      <td>0.002991</td>\n",
       "      <td>0.151001</td>\n",
       "      <td>0.114126</td>\n",
       "      <td>1.230621</td>\n",
       "      <td>0.885639</td>\n",
       "    </tr>\n",
       "    <tr>\n",
       "      <th>min</th>\n",
       "      <td>3.800000</td>\n",
       "      <td>0.080000</td>\n",
       "      <td>0.000000</td>\n",
       "      <td>0.600000</td>\n",
       "      <td>0.009000</td>\n",
       "      <td>2.000000</td>\n",
       "      <td>9.000000</td>\n",
       "      <td>0.987110</td>\n",
       "      <td>2.720000</td>\n",
       "      <td>0.220000</td>\n",
       "      <td>8.000000</td>\n",
       "      <td>3.000000</td>\n",
       "    </tr>\n",
       "    <tr>\n",
       "      <th>25%</th>\n",
       "      <td>6.300000</td>\n",
       "      <td>0.210000</td>\n",
       "      <td>0.270000</td>\n",
       "      <td>1.700000</td>\n",
       "      <td>0.036000</td>\n",
       "      <td>23.000000</td>\n",
       "      <td>108.000000</td>\n",
       "      <td>0.991723</td>\n",
       "      <td>3.090000</td>\n",
       "      <td>0.410000</td>\n",
       "      <td>9.500000</td>\n",
       "      <td>5.000000</td>\n",
       "    </tr>\n",
       "    <tr>\n",
       "      <th>50%</th>\n",
       "      <td>6.800000</td>\n",
       "      <td>0.260000</td>\n",
       "      <td>0.320000</td>\n",
       "      <td>5.200000</td>\n",
       "      <td>0.043000</td>\n",
       "      <td>34.000000</td>\n",
       "      <td>134.000000</td>\n",
       "      <td>0.993740</td>\n",
       "      <td>3.180000</td>\n",
       "      <td>0.470000</td>\n",
       "      <td>10.400000</td>\n",
       "      <td>6.000000</td>\n",
       "    </tr>\n",
       "    <tr>\n",
       "      <th>75%</th>\n",
       "      <td>7.300000</td>\n",
       "      <td>0.320000</td>\n",
       "      <td>0.390000</td>\n",
       "      <td>9.900000</td>\n",
       "      <td>0.050000</td>\n",
       "      <td>46.000000</td>\n",
       "      <td>167.000000</td>\n",
       "      <td>0.996100</td>\n",
       "      <td>3.280000</td>\n",
       "      <td>0.550000</td>\n",
       "      <td>11.400000</td>\n",
       "      <td>6.000000</td>\n",
       "    </tr>\n",
       "    <tr>\n",
       "      <th>max</th>\n",
       "      <td>14.200000</td>\n",
       "      <td>1.100000</td>\n",
       "      <td>1.660000</td>\n",
       "      <td>65.800000</td>\n",
       "      <td>0.346000</td>\n",
       "      <td>289.000000</td>\n",
       "      <td>440.000000</td>\n",
       "      <td>1.038980</td>\n",
       "      <td>3.820000</td>\n",
       "      <td>1.080000</td>\n",
       "      <td>14.200000</td>\n",
       "      <td>9.000000</td>\n",
       "    </tr>\n",
       "  </tbody>\n",
       "</table>\n",
       "</div>"
      ],
      "text/plain": [
       "       fixed acidity  volatile acidity  citric acid  residual sugar  \\\n",
       "count    4898.000000       4898.000000  4898.000000     4898.000000   \n",
       "mean        6.854788          0.278241     0.334192        6.391415   \n",
       "std         0.843868          0.100795     0.121020        5.072058   \n",
       "min         3.800000          0.080000     0.000000        0.600000   \n",
       "25%         6.300000          0.210000     0.270000        1.700000   \n",
       "50%         6.800000          0.260000     0.320000        5.200000   \n",
       "75%         7.300000          0.320000     0.390000        9.900000   \n",
       "max        14.200000          1.100000     1.660000       65.800000   \n",
       "\n",
       "         chlorides  free sulfur dioxide  total sulfur dioxide      density  \\\n",
       "count  4898.000000          4898.000000           4898.000000  4898.000000   \n",
       "mean      0.045772            35.308085            138.360657     0.994027   \n",
       "std       0.021848            17.007137             42.498065     0.002991   \n",
       "min       0.009000             2.000000              9.000000     0.987110   \n",
       "25%       0.036000            23.000000            108.000000     0.991723   \n",
       "50%       0.043000            34.000000            134.000000     0.993740   \n",
       "75%       0.050000            46.000000            167.000000     0.996100   \n",
       "max       0.346000           289.000000            440.000000     1.038980   \n",
       "\n",
       "                pH    sulphates      alcohol      quality  \n",
       "count  4898.000000  4898.000000  4898.000000  4898.000000  \n",
       "mean      3.188267     0.489847    10.514267     5.877909  \n",
       "std       0.151001     0.114126     1.230621     0.885639  \n",
       "min       2.720000     0.220000     8.000000     3.000000  \n",
       "25%       3.090000     0.410000     9.500000     5.000000  \n",
       "50%       3.180000     0.470000    10.400000     6.000000  \n",
       "75%       3.280000     0.550000    11.400000     6.000000  \n",
       "max       3.820000     1.080000    14.200000     9.000000  "
      ]
     },
     "execution_count": 33,
     "metadata": {},
     "output_type": "execute_result"
    }
   ],
   "source": [
    "df.describe()"
   ]
  },
  {
   "cell_type": "markdown",
   "id": "equal-liberty",
   "metadata": {},
   "source": [
    "### 8. Shuffle the rows of your data. You can use def = df.sample(frac=1) as an idiomatic way to shuffle the data in Pandas without losing column names."
   ]
  },
  {
   "cell_type": "code",
   "execution_count": 34,
   "id": "unable-throw",
   "metadata": {},
   "outputs": [],
   "source": [
    "data = df.sample(frac=1)"
   ]
  },
  {
   "cell_type": "code",
   "execution_count": 35,
   "id": "young-procedure",
   "metadata": {},
   "outputs": [
    {
     "data": {
      "text/html": [
       "<div>\n",
       "<style scoped>\n",
       "    .dataframe tbody tr th:only-of-type {\n",
       "        vertical-align: middle;\n",
       "    }\n",
       "\n",
       "    .dataframe tbody tr th {\n",
       "        vertical-align: top;\n",
       "    }\n",
       "\n",
       "    .dataframe thead th {\n",
       "        text-align: right;\n",
       "    }\n",
       "</style>\n",
       "<table border=\"1\" class=\"dataframe\">\n",
       "  <thead>\n",
       "    <tr style=\"text-align: right;\">\n",
       "      <th></th>\n",
       "      <th>fixed acidity</th>\n",
       "      <th>volatile acidity</th>\n",
       "      <th>citric acid</th>\n",
       "      <th>residual sugar</th>\n",
       "      <th>chlorides</th>\n",
       "      <th>free sulfur dioxide</th>\n",
       "      <th>total sulfur dioxide</th>\n",
       "      <th>density</th>\n",
       "      <th>pH</th>\n",
       "      <th>sulphates</th>\n",
       "      <th>alcohol</th>\n",
       "      <th>quality</th>\n",
       "    </tr>\n",
       "  </thead>\n",
       "  <tbody>\n",
       "    <tr>\n",
       "      <th>3962</th>\n",
       "      <td>7.2</td>\n",
       "      <td>0.58</td>\n",
       "      <td>0.27</td>\n",
       "      <td>5.80</td>\n",
       "      <td>0.032</td>\n",
       "      <td>40.0</td>\n",
       "      <td>118.0</td>\n",
       "      <td>0.99088</td>\n",
       "      <td>3.17</td>\n",
       "      <td>0.53</td>\n",
       "      <td>13.0</td>\n",
       "      <td>7</td>\n",
       "    </tr>\n",
       "    <tr>\n",
       "      <th>1068</th>\n",
       "      <td>8.8</td>\n",
       "      <td>0.33</td>\n",
       "      <td>0.44</td>\n",
       "      <td>6.35</td>\n",
       "      <td>0.024</td>\n",
       "      <td>9.0</td>\n",
       "      <td>87.0</td>\n",
       "      <td>0.99170</td>\n",
       "      <td>2.96</td>\n",
       "      <td>0.40</td>\n",
       "      <td>12.6</td>\n",
       "      <td>7</td>\n",
       "    </tr>\n",
       "    <tr>\n",
       "      <th>4306</th>\n",
       "      <td>6.1</td>\n",
       "      <td>0.24</td>\n",
       "      <td>0.27</td>\n",
       "      <td>11.50</td>\n",
       "      <td>0.050</td>\n",
       "      <td>51.0</td>\n",
       "      <td>133.0</td>\n",
       "      <td>0.99476</td>\n",
       "      <td>3.22</td>\n",
       "      <td>0.37</td>\n",
       "      <td>10.8</td>\n",
       "      <td>6</td>\n",
       "    </tr>\n",
       "    <tr>\n",
       "      <th>2651</th>\n",
       "      <td>6.4</td>\n",
       "      <td>0.68</td>\n",
       "      <td>0.26</td>\n",
       "      <td>3.40</td>\n",
       "      <td>0.069</td>\n",
       "      <td>25.0</td>\n",
       "      <td>146.0</td>\n",
       "      <td>0.99347</td>\n",
       "      <td>3.18</td>\n",
       "      <td>0.40</td>\n",
       "      <td>9.3</td>\n",
       "      <td>5</td>\n",
       "    </tr>\n",
       "    <tr>\n",
       "      <th>2824</th>\n",
       "      <td>7.2</td>\n",
       "      <td>0.26</td>\n",
       "      <td>0.40</td>\n",
       "      <td>6.30</td>\n",
       "      <td>0.047</td>\n",
       "      <td>52.0</td>\n",
       "      <td>172.0</td>\n",
       "      <td>0.99573</td>\n",
       "      <td>3.18</td>\n",
       "      <td>0.53</td>\n",
       "      <td>9.5</td>\n",
       "      <td>6</td>\n",
       "    </tr>\n",
       "    <tr>\n",
       "      <th>...</th>\n",
       "      <td>...</td>\n",
       "      <td>...</td>\n",
       "      <td>...</td>\n",
       "      <td>...</td>\n",
       "      <td>...</td>\n",
       "      <td>...</td>\n",
       "      <td>...</td>\n",
       "      <td>...</td>\n",
       "      <td>...</td>\n",
       "      <td>...</td>\n",
       "      <td>...</td>\n",
       "      <td>...</td>\n",
       "    </tr>\n",
       "    <tr>\n",
       "      <th>3391</th>\n",
       "      <td>6.9</td>\n",
       "      <td>0.28</td>\n",
       "      <td>0.30</td>\n",
       "      <td>8.30</td>\n",
       "      <td>0.026</td>\n",
       "      <td>37.0</td>\n",
       "      <td>113.0</td>\n",
       "      <td>0.99139</td>\n",
       "      <td>2.99</td>\n",
       "      <td>0.38</td>\n",
       "      <td>12.3</td>\n",
       "      <td>8</td>\n",
       "    </tr>\n",
       "    <tr>\n",
       "      <th>3599</th>\n",
       "      <td>6.6</td>\n",
       "      <td>0.39</td>\n",
       "      <td>0.38</td>\n",
       "      <td>9.70</td>\n",
       "      <td>0.053</td>\n",
       "      <td>49.0</td>\n",
       "      <td>226.0</td>\n",
       "      <td>0.99787</td>\n",
       "      <td>3.30</td>\n",
       "      <td>0.57</td>\n",
       "      <td>9.4</td>\n",
       "      <td>6</td>\n",
       "    </tr>\n",
       "    <tr>\n",
       "      <th>1700</th>\n",
       "      <td>6.7</td>\n",
       "      <td>0.26</td>\n",
       "      <td>0.30</td>\n",
       "      <td>1.80</td>\n",
       "      <td>0.043</td>\n",
       "      <td>25.0</td>\n",
       "      <td>121.0</td>\n",
       "      <td>0.99440</td>\n",
       "      <td>3.44</td>\n",
       "      <td>0.61</td>\n",
       "      <td>10.2</td>\n",
       "      <td>6</td>\n",
       "    </tr>\n",
       "    <tr>\n",
       "      <th>1522</th>\n",
       "      <td>6.9</td>\n",
       "      <td>0.21</td>\n",
       "      <td>0.49</td>\n",
       "      <td>1.40</td>\n",
       "      <td>0.041</td>\n",
       "      <td>15.0</td>\n",
       "      <td>164.0</td>\n",
       "      <td>0.99270</td>\n",
       "      <td>3.25</td>\n",
       "      <td>0.63</td>\n",
       "      <td>11.0</td>\n",
       "      <td>5</td>\n",
       "    </tr>\n",
       "    <tr>\n",
       "      <th>4348</th>\n",
       "      <td>7.6</td>\n",
       "      <td>0.31</td>\n",
       "      <td>0.52</td>\n",
       "      <td>13.20</td>\n",
       "      <td>0.042</td>\n",
       "      <td>61.0</td>\n",
       "      <td>148.0</td>\n",
       "      <td>0.99839</td>\n",
       "      <td>2.98</td>\n",
       "      <td>0.47</td>\n",
       "      <td>9.1</td>\n",
       "      <td>6</td>\n",
       "    </tr>\n",
       "  </tbody>\n",
       "</table>\n",
       "<p>4898 rows × 12 columns</p>\n",
       "</div>"
      ],
      "text/plain": [
       "      fixed acidity  volatile acidity  citric acid  residual sugar  chlorides  \\\n",
       "3962            7.2              0.58         0.27            5.80      0.032   \n",
       "1068            8.8              0.33         0.44            6.35      0.024   \n",
       "4306            6.1              0.24         0.27           11.50      0.050   \n",
       "2651            6.4              0.68         0.26            3.40      0.069   \n",
       "2824            7.2              0.26         0.40            6.30      0.047   \n",
       "...             ...               ...          ...             ...        ...   \n",
       "3391            6.9              0.28         0.30            8.30      0.026   \n",
       "3599            6.6              0.39         0.38            9.70      0.053   \n",
       "1700            6.7              0.26         0.30            1.80      0.043   \n",
       "1522            6.9              0.21         0.49            1.40      0.041   \n",
       "4348            7.6              0.31         0.52           13.20      0.042   \n",
       "\n",
       "      free sulfur dioxide  total sulfur dioxide  density    pH  sulphates  \\\n",
       "3962                 40.0                 118.0  0.99088  3.17       0.53   \n",
       "1068                  9.0                  87.0  0.99170  2.96       0.40   \n",
       "4306                 51.0                 133.0  0.99476  3.22       0.37   \n",
       "2651                 25.0                 146.0  0.99347  3.18       0.40   \n",
       "2824                 52.0                 172.0  0.99573  3.18       0.53   \n",
       "...                   ...                   ...      ...   ...        ...   \n",
       "3391                 37.0                 113.0  0.99139  2.99       0.38   \n",
       "3599                 49.0                 226.0  0.99787  3.30       0.57   \n",
       "1700                 25.0                 121.0  0.99440  3.44       0.61   \n",
       "1522                 15.0                 164.0  0.99270  3.25       0.63   \n",
       "4348                 61.0                 148.0  0.99839  2.98       0.47   \n",
       "\n",
       "      alcohol  quality  \n",
       "3962     13.0        7  \n",
       "1068     12.6        7  \n",
       "4306     10.8        6  \n",
       "2651      9.3        5  \n",
       "2824      9.5        6  \n",
       "...       ...      ...  \n",
       "3391     12.3        8  \n",
       "3599      9.4        6  \n",
       "1700     10.2        6  \n",
       "1522     11.0        5  \n",
       "4348      9.1        6  \n",
       "\n",
       "[4898 rows x 12 columns]"
      ]
     },
     "execution_count": 35,
     "metadata": {},
     "output_type": "execute_result"
    }
   ],
   "source": [
    "data"
   ]
  },
  {
   "cell_type": "markdown",
   "id": "continuing-coast",
   "metadata": {},
   "source": [
    "### 9. Generate pair plots using the seaborn package. This will be used to identify and report the redundant features, if there is any."
   ]
  },
  {
   "cell_type": "code",
   "execution_count": 36,
   "id": "interested-balloon",
   "metadata": {},
   "outputs": [],
   "source": [
    "#sns.heatmap(df)"
   ]
  },
  {
   "cell_type": "code",
   "execution_count": 37,
   "id": "polyphonic-jacob",
   "metadata": {},
   "outputs": [
    {
     "data": {
      "image/png": "[encoded data removed]",
      "text/plain": [
       "<Figure size 648x648 with 1 Axes>"
      ]
     },
     "metadata": {
      "needs_background": "light"
     },
     "output_type": "display_data"
    }
   ],
   "source": [
    "plt.rcParams['font.size'] = 16\n",
    "plt.rcParams['figure.figsize'] = (9, 9)\n",
    "\n",
    "# Bar plot of grades\n",
    "plt.bar(df['quality'].value_counts().index, \n",
    "        df['quality'].value_counts().values,\n",
    "         fill = 'navy', edgecolor = 'k', width = 1)\n",
    "plt.xlabel('quality'); \n",
    "plt.ylabel('Count'); \n",
    "plt.title('Distribution of quality');\n",
    "plt.xticks(list(range(0, 9)));"
   ]
  },
  {
   "cell_type": "code",
   "execution_count": 38,
   "id": "consistent-stress",
   "metadata": {},
   "outputs": [
    {
     "data": {
      "image/png": "[encoded data removed]",
      "text/plain": [
       "<Figure size 576x432 with 1 Axes>"
      ]
     },
     "metadata": {
      "needs_background": "light"
     },
     "output_type": "display_data"
    }
   ],
   "source": [
    "# Calculate percentile for grades\n",
    "data['percentile'] = data['quality'].apply(lambda x: percentileofscore(data['quality'], x))\n",
    "\n",
    "# Plot percentiles for grades\n",
    "plt.figure(figsize = (8, 6))\n",
    "\n",
    "plt.plot(data['quality'], data['percentile'], 'o')\n",
    "\n",
    "plt.xticks(range(0, 20, 2), range(0, 20, 2))\n",
    "\n",
    "plt.xlabel('Score'); \n",
    "plt.ylabel('Percentile'); \n",
    "plt.title('quality Percentiles');"
   ]
  },
  {
   "cell_type": "code",
   "execution_count": 39,
   "id": "posted-petite",
   "metadata": {},
   "outputs": [
    {
     "data": {
      "text/plain": [
       "quality                 1.000000\n",
       "percentile              0.978780\n",
       "alcohol                 0.435575\n",
       "pH                      0.099427\n",
       "sulphates               0.053678\n",
       "free sulfur dioxide     0.008158\n",
       "citric acid            -0.009209\n",
       "residual sugar         -0.097577\n",
       "fixed acidity          -0.113663\n",
       "total sulfur dioxide   -0.174737\n",
       "volatile acidity       -0.194723\n",
       "chlorides              -0.209934\n",
       "density                -0.307123\n",
       "Name: quality, dtype: float64"
      ]
     },
     "execution_count": 39,
     "metadata": {},
     "output_type": "execute_result"
    }
   ],
   "source": [
    "# Variable Correlations with Final Grade\n",
    "\n",
    "data.corr()['quality'].sort_values(ascending=False)"
   ]
  },
  {
   "cell_type": "code",
   "execution_count": 40,
   "id": "juvenile-twelve",
   "metadata": {},
   "outputs": [],
   "source": [
    "data = data.drop(['percentile'], axis = 1)"
   ]
  },
  {
   "cell_type": "code",
   "execution_count": 41,
   "id": "stock-publicity",
   "metadata": {},
   "outputs": [],
   "source": [
    "data.columns = [c.replace(' ', '_') for c in data.columns]"
   ]
  },
  {
   "cell_type": "code",
   "execution_count": 42,
   "id": "small-information",
   "metadata": {},
   "outputs": [
    {
     "data": {
      "text/html": [
       "<div>\n",
       "<style scoped>\n",
       "    .dataframe tbody tr th:only-of-type {\n",
       "        vertical-align: middle;\n",
       "    }\n",
       "\n",
       "    .dataframe tbody tr th {\n",
       "        vertical-align: top;\n",
       "    }\n",
       "\n",
       "    .dataframe thead th {\n",
       "        text-align: right;\n",
       "    }\n",
       "</style>\n",
       "<table border=\"1\" class=\"dataframe\">\n",
       "  <thead>\n",
       "    <tr style=\"text-align: right;\">\n",
       "      <th></th>\n",
       "      <th>fixed_acidity</th>\n",
       "      <th>volatile_acidity</th>\n",
       "      <th>citric_acid</th>\n",
       "      <th>residual_sugar</th>\n",
       "      <th>chlorides</th>\n",
       "      <th>free_sulfur_dioxide</th>\n",
       "      <th>total_sulfur_dioxide</th>\n",
       "      <th>density</th>\n",
       "      <th>pH</th>\n",
       "      <th>sulphates</th>\n",
       "      <th>alcohol</th>\n",
       "      <th>quality</th>\n",
       "    </tr>\n",
       "  </thead>\n",
       "  <tbody>\n",
       "    <tr>\n",
       "      <th>3962</th>\n",
       "      <td>7.2</td>\n",
       "      <td>0.58</td>\n",
       "      <td>0.27</td>\n",
       "      <td>5.8</td>\n",
       "      <td>0.032</td>\n",
       "      <td>40.0</td>\n",
       "      <td>118.0</td>\n",
       "      <td>0.99088</td>\n",
       "      <td>3.17</td>\n",
       "      <td>0.53</td>\n",
       "      <td>13.0</td>\n",
       "      <td>7</td>\n",
       "    </tr>\n",
       "  </tbody>\n",
       "</table>\n",
       "</div>"
      ],
      "text/plain": [
       "      fixed_acidity  volatile_acidity  citric_acid  residual_sugar  chlorides  \\\n",
       "3962            7.2              0.58         0.27             5.8      0.032   \n",
       "\n",
       "      free_sulfur_dioxide  total_sulfur_dioxide  density    pH  sulphates  \\\n",
       "3962                 40.0                 118.0  0.99088  3.17       0.53   \n",
       "\n",
       "      alcohol  quality  \n",
       "3962     13.0        7  "
      ]
     },
     "execution_count": 42,
     "metadata": {},
     "output_type": "execute_result"
    }
   ],
   "source": [
    "data.head(1)"
   ]
  },
  {
   "cell_type": "code",
   "execution_count": 43,
   "id": "mysterious-holly",
   "metadata": {},
   "outputs": [],
   "source": [
    "# attributes = [\"quality\", \"fixed_acidity\", \"volatile_acidity\", \"citric_acid\", \"chlorides\", \"total_sulfur_dioxide\", \"density\", \"alcohol\"]\n",
    "\n",
    "# scatter_matrix(data[attributes], figsize=(15, 12))"
   ]
  },
  {
   "cell_type": "code",
   "execution_count": 44,
   "id": "fresh-slovak",
   "metadata": {},
   "outputs": [
    {
     "data": {
      "text/plain": [
       "<AxesSubplot:title={'center':'Scatter Plot'}, xlabel='density', ylabel='quality'>"
      ]
     },
     "execution_count": 44,
     "metadata": {},
     "output_type": "execute_result"
    },
    {
     "data": {
      "image/png": "[encoded data removed]",
      "text/plain": [
       "<Figure size 648x648 with 1 Axes>"
      ]
     },
     "metadata": {
      "needs_background": "light"
     },
     "output_type": "display_data"
    }
   ],
   "source": [
    "df.plot(title=\"Scatter Plot\", kind=\"scatter\", x=\"density\", y=\"quality\")"
   ]
  },
  {
   "cell_type": "code",
   "execution_count": 45,
   "id": "modern-christianity",
   "metadata": {},
   "outputs": [],
   "source": [
    "# # Calculate correlation coefficient\n",
    "# def corrfunc(x, y, **kws):\n",
    "#     r, _ = pearsonr(x, y)\n",
    "#     ax = plt.gca()\n",
    "#     ax.annotate(\"r = {:.2f}\".format(r),\n",
    "#                 xy=(.1, .6), xycoords=ax.transAxes,\n",
    "#                size = 24)\n",
    "    \n",
    "# cmap = sns.cubehelix_palette(light=1, dark = 0.1,\n",
    "#                              hue = 0.5, as_cmap=True)\n",
    "\n",
    "# sns.set_context(font_scale=2)\n",
    "\n",
    "# # Pair grid set up\n",
    "# g = sns.PairGrid(data)\n",
    "\n",
    "# # Scatter plot on the upper triangle\n",
    "# g.map_upper(plt.scatter, s=10, color = 'red')\n",
    "\n",
    "# # Distribution on the diagonal\n",
    "# g.map_diag(sns.distplot, kde=False, color = 'red')\n",
    "\n",
    "# # Density Plot and Correlation coefficients on the lower triangle\n",
    "# g.map_lower(sns.kdeplot, cmap = cmap)\n",
    "# g.map_lower(corrfunc);"
   ]
  },
  {
   "cell_type": "code",
   "execution_count": 46,
   "id": "known-projector",
   "metadata": {},
   "outputs": [],
   "source": [
    "data = data.drop_duplicates()"
   ]
  },
  {
   "cell_type": "code",
   "execution_count": 47,
   "id": "accomplished-peninsula",
   "metadata": {},
   "outputs": [
    {
     "data": {
      "text/html": [
       "<div>\n",
       "<style scoped>\n",
       "    .dataframe tbody tr th:only-of-type {\n",
       "        vertical-align: middle;\n",
       "    }\n",
       "\n",
       "    .dataframe tbody tr th {\n",
       "        vertical-align: top;\n",
       "    }\n",
       "\n",
       "    .dataframe thead th {\n",
       "        text-align: right;\n",
       "    }\n",
       "</style>\n",
       "<table border=\"1\" class=\"dataframe\">\n",
       "  <thead>\n",
       "    <tr style=\"text-align: right;\">\n",
       "      <th></th>\n",
       "      <th>fixed_acidity</th>\n",
       "      <th>volatile_acidity</th>\n",
       "      <th>citric_acid</th>\n",
       "      <th>residual_sugar</th>\n",
       "      <th>chlorides</th>\n",
       "      <th>free_sulfur_dioxide</th>\n",
       "      <th>total_sulfur_dioxide</th>\n",
       "      <th>density</th>\n",
       "      <th>pH</th>\n",
       "      <th>sulphates</th>\n",
       "      <th>alcohol</th>\n",
       "      <th>quality</th>\n",
       "    </tr>\n",
       "  </thead>\n",
       "  <tbody>\n",
       "    <tr>\n",
       "      <th>count</th>\n",
       "      <td>3961.000000</td>\n",
       "      <td>3961.000000</td>\n",
       "      <td>3961.000000</td>\n",
       "      <td>3961.000000</td>\n",
       "      <td>3961.000000</td>\n",
       "      <td>3961.000000</td>\n",
       "      <td>3961.000000</td>\n",
       "      <td>3961.000000</td>\n",
       "      <td>3961.000000</td>\n",
       "      <td>3961.000000</td>\n",
       "      <td>3961.000000</td>\n",
       "      <td>3961.000000</td>\n",
       "    </tr>\n",
       "    <tr>\n",
       "      <th>mean</th>\n",
       "      <td>6.839346</td>\n",
       "      <td>0.280538</td>\n",
       "      <td>0.334332</td>\n",
       "      <td>5.914819</td>\n",
       "      <td>0.045905</td>\n",
       "      <td>34.889169</td>\n",
       "      <td>137.193512</td>\n",
       "      <td>0.993790</td>\n",
       "      <td>3.195458</td>\n",
       "      <td>0.490351</td>\n",
       "      <td>10.589358</td>\n",
       "      <td>5.854835</td>\n",
       "    </tr>\n",
       "    <tr>\n",
       "      <th>std</th>\n",
       "      <td>0.866860</td>\n",
       "      <td>0.103437</td>\n",
       "      <td>0.122446</td>\n",
       "      <td>4.861646</td>\n",
       "      <td>0.023103</td>\n",
       "      <td>17.210021</td>\n",
       "      <td>43.129065</td>\n",
       "      <td>0.002905</td>\n",
       "      <td>0.151546</td>\n",
       "      <td>0.113523</td>\n",
       "      <td>1.217076</td>\n",
       "      <td>0.890683</td>\n",
       "    </tr>\n",
       "    <tr>\n",
       "      <th>min</th>\n",
       "      <td>3.800000</td>\n",
       "      <td>0.080000</td>\n",
       "      <td>0.000000</td>\n",
       "      <td>0.600000</td>\n",
       "      <td>0.009000</td>\n",
       "      <td>2.000000</td>\n",
       "      <td>9.000000</td>\n",
       "      <td>0.987110</td>\n",
       "      <td>2.720000</td>\n",
       "      <td>0.220000</td>\n",
       "      <td>8.000000</td>\n",
       "      <td>3.000000</td>\n",
       "    </tr>\n",
       "    <tr>\n",
       "      <th>25%</th>\n",
       "      <td>6.300000</td>\n",
       "      <td>0.210000</td>\n",
       "      <td>0.270000</td>\n",
       "      <td>1.600000</td>\n",
       "      <td>0.035000</td>\n",
       "      <td>23.000000</td>\n",
       "      <td>106.000000</td>\n",
       "      <td>0.991620</td>\n",
       "      <td>3.090000</td>\n",
       "      <td>0.410000</td>\n",
       "      <td>9.500000</td>\n",
       "      <td>5.000000</td>\n",
       "    </tr>\n",
       "    <tr>\n",
       "      <th>50%</th>\n",
       "      <td>6.800000</td>\n",
       "      <td>0.260000</td>\n",
       "      <td>0.320000</td>\n",
       "      <td>4.700000</td>\n",
       "      <td>0.042000</td>\n",
       "      <td>33.000000</td>\n",
       "      <td>133.000000</td>\n",
       "      <td>0.993500</td>\n",
       "      <td>3.180000</td>\n",
       "      <td>0.480000</td>\n",
       "      <td>10.400000</td>\n",
       "      <td>6.000000</td>\n",
       "    </tr>\n",
       "    <tr>\n",
       "      <th>75%</th>\n",
       "      <td>7.300000</td>\n",
       "      <td>0.330000</td>\n",
       "      <td>0.390000</td>\n",
       "      <td>8.900000</td>\n",
       "      <td>0.050000</td>\n",
       "      <td>45.000000</td>\n",
       "      <td>166.000000</td>\n",
       "      <td>0.995710</td>\n",
       "      <td>3.290000</td>\n",
       "      <td>0.550000</td>\n",
       "      <td>11.400000</td>\n",
       "      <td>6.000000</td>\n",
       "    </tr>\n",
       "    <tr>\n",
       "      <th>max</th>\n",
       "      <td>14.200000</td>\n",
       "      <td>1.100000</td>\n",
       "      <td>1.660000</td>\n",
       "      <td>65.800000</td>\n",
       "      <td>0.346000</td>\n",
       "      <td>289.000000</td>\n",
       "      <td>440.000000</td>\n",
       "      <td>1.038980</td>\n",
       "      <td>3.820000</td>\n",
       "      <td>1.080000</td>\n",
       "      <td>14.200000</td>\n",
       "      <td>9.000000</td>\n",
       "    </tr>\n",
       "  </tbody>\n",
       "</table>\n",
       "</div>"
      ],
      "text/plain": [
       "       fixed_acidity  volatile_acidity  citric_acid  residual_sugar  \\\n",
       "count    3961.000000       3961.000000  3961.000000     3961.000000   \n",
       "mean        6.839346          0.280538     0.334332        5.914819   \n",
       "std         0.866860          0.103437     0.122446        4.861646   \n",
       "min         3.800000          0.080000     0.000000        0.600000   \n",
       "25%         6.300000          0.210000     0.270000        1.600000   \n",
       "50%         6.800000          0.260000     0.320000        4.700000   \n",
       "75%         7.300000          0.330000     0.390000        8.900000   \n",
       "max        14.200000          1.100000     1.660000       65.800000   \n",
       "\n",
       "         chlorides  free_sulfur_dioxide  total_sulfur_dioxide      density  \\\n",
       "count  3961.000000          3961.000000           3961.000000  3961.000000   \n",
       "mean      0.045905            34.889169            137.193512     0.993790   \n",
       "std       0.023103            17.210021             43.129065     0.002905   \n",
       "min       0.009000             2.000000              9.000000     0.987110   \n",
       "25%       0.035000            23.000000            106.000000     0.991620   \n",
       "50%       0.042000            33.000000            133.000000     0.993500   \n",
       "75%       0.050000            45.000000            166.000000     0.995710   \n",
       "max       0.346000           289.000000            440.000000     1.038980   \n",
       "\n",
       "                pH    sulphates      alcohol      quality  \n",
       "count  3961.000000  3961.000000  3961.000000  3961.000000  \n",
       "mean      3.195458     0.490351    10.589358     5.854835  \n",
       "std       0.151546     0.113523     1.217076     0.890683  \n",
       "min       2.720000     0.220000     8.000000     3.000000  \n",
       "25%       3.090000     0.410000     9.500000     5.000000  \n",
       "50%       3.180000     0.480000    10.400000     6.000000  \n",
       "75%       3.290000     0.550000    11.400000     6.000000  \n",
       "max       3.820000     1.080000    14.200000     9.000000  "
      ]
     },
     "execution_count": 47,
     "metadata": {},
     "output_type": "execute_result"
    }
   ],
   "source": [
    "data.describe()"
   ]
  },
  {
   "cell_type": "code",
   "execution_count": 48,
   "id": "minute-haven",
   "metadata": {},
   "outputs": [
    {
     "data": {
      "text/html": [
       "<div>\n",
       "<style scoped>\n",
       "    .dataframe tbody tr th:only-of-type {\n",
       "        vertical-align: middle;\n",
       "    }\n",
       "\n",
       "    .dataframe tbody tr th {\n",
       "        vertical-align: top;\n",
       "    }\n",
       "\n",
       "    .dataframe thead th {\n",
       "        text-align: right;\n",
       "    }\n",
       "</style>\n",
       "<table border=\"1\" class=\"dataframe\">\n",
       "  <thead>\n",
       "    <tr style=\"text-align: right;\">\n",
       "      <th></th>\n",
       "      <th>fixed_acidity</th>\n",
       "      <th>volatile_acidity</th>\n",
       "      <th>citric_acid</th>\n",
       "      <th>residual_sugar</th>\n",
       "      <th>chlorides</th>\n",
       "      <th>free_sulfur_dioxide</th>\n",
       "      <th>total_sulfur_dioxide</th>\n",
       "      <th>density</th>\n",
       "      <th>pH</th>\n",
       "      <th>sulphates</th>\n",
       "      <th>alcohol</th>\n",
       "      <th>quality</th>\n",
       "    </tr>\n",
       "  </thead>\n",
       "  <tbody>\n",
       "    <tr>\n",
       "      <th>3962</th>\n",
       "      <td>7.2</td>\n",
       "      <td>0.58</td>\n",
       "      <td>0.27</td>\n",
       "      <td>5.8</td>\n",
       "      <td>0.032</td>\n",
       "      <td>40.0</td>\n",
       "      <td>118.0</td>\n",
       "      <td>0.99088</td>\n",
       "      <td>3.17</td>\n",
       "      <td>0.53</td>\n",
       "      <td>13.0</td>\n",
       "      <td>7</td>\n",
       "    </tr>\n",
       "  </tbody>\n",
       "</table>\n",
       "</div>"
      ],
      "text/plain": [
       "      fixed_acidity  volatile_acidity  citric_acid  residual_sugar  chlorides  \\\n",
       "3962            7.2              0.58         0.27             5.8      0.032   \n",
       "\n",
       "      free_sulfur_dioxide  total_sulfur_dioxide  density    pH  sulphates  \\\n",
       "3962                 40.0                 118.0  0.99088  3.17       0.53   \n",
       "\n",
       "      alcohol  quality  \n",
       "3962     13.0        7  "
      ]
     },
     "execution_count": 48,
     "metadata": {},
     "output_type": "execute_result"
    }
   ],
   "source": [
    "data.head(1)"
   ]
  },
  {
   "cell_type": "code",
   "execution_count": 49,
   "id": "determined-column",
   "metadata": {},
   "outputs": [],
   "source": [
    "data = data.drop(['residual_sugar'],axis=1)\n",
    "data = data.drop(['alcohol'],axis=1)\n",
    "data = data.drop(['free_sulfur_dioxide'],axis=1)"
   ]
  },
  {
   "cell_type": "code",
   "execution_count": 50,
   "id": "radio-disorder",
   "metadata": {},
   "outputs": [
    {
     "data": {
      "text/html": [
       "<div>\n",
       "<style scoped>\n",
       "    .dataframe tbody tr th:only-of-type {\n",
       "        vertical-align: middle;\n",
       "    }\n",
       "\n",
       "    .dataframe tbody tr th {\n",
       "        vertical-align: top;\n",
       "    }\n",
       "\n",
       "    .dataframe thead th {\n",
       "        text-align: right;\n",
       "    }\n",
       "</style>\n",
       "<table border=\"1\" class=\"dataframe\">\n",
       "  <thead>\n",
       "    <tr style=\"text-align: right;\">\n",
       "      <th></th>\n",
       "      <th>fixed_acidity</th>\n",
       "      <th>volatile_acidity</th>\n",
       "      <th>citric_acid</th>\n",
       "      <th>chlorides</th>\n",
       "      <th>total_sulfur_dioxide</th>\n",
       "      <th>density</th>\n",
       "      <th>pH</th>\n",
       "      <th>sulphates</th>\n",
       "      <th>quality</th>\n",
       "    </tr>\n",
       "  </thead>\n",
       "  <tbody>\n",
       "    <tr>\n",
       "      <th>3962</th>\n",
       "      <td>7.2</td>\n",
       "      <td>0.58</td>\n",
       "      <td>0.27</td>\n",
       "      <td>0.032</td>\n",
       "      <td>118.0</td>\n",
       "      <td>0.99088</td>\n",
       "      <td>3.17</td>\n",
       "      <td>0.53</td>\n",
       "      <td>7</td>\n",
       "    </tr>\n",
       "  </tbody>\n",
       "</table>\n",
       "</div>"
      ],
      "text/plain": [
       "      fixed_acidity  volatile_acidity  citric_acid  chlorides  \\\n",
       "3962            7.2              0.58         0.27      0.032   \n",
       "\n",
       "      total_sulfur_dioxide  density    pH  sulphates  quality  \n",
       "3962                 118.0  0.99088  3.17       0.53        7  "
      ]
     },
     "execution_count": 50,
     "metadata": {},
     "output_type": "execute_result"
    }
   ],
   "source": [
    "data.head(1)"
   ]
  },
  {
   "cell_type": "markdown",
   "id": "appreciated-burst",
   "metadata": {},
   "source": [
    "scatter data"
   ]
  },
  {
   "cell_type": "code",
   "execution_count": 51,
   "id": "prostate-opera",
   "metadata": {},
   "outputs": [
    {
     "name": "stdout",
     "output_type": "stream",
     "text": [
      "3961\n",
      "3961\n"
     ]
    }
   ],
   "source": [
    "labels = np.array(data['quality'])\n",
    "samples = data.drop(['quality'],axis=1)\n",
    "print(len(labels))\n",
    "print(len(samples))"
   ]
  },
  {
   "cell_type": "code",
   "execution_count": 52,
   "id": "potential-hamburg",
   "metadata": {},
   "outputs": [],
   "source": [
    "def partition(input_fea, label, ratio):\n",
    "    train_x = []\n",
    "    train_y = []\n",
    "    test_x = []\n",
    "    test_y = []\n",
    "    \n",
    "    test_size = int(len(input_fea)*ratio)\n",
    "    train_size = len(input_fea) - test_size\n",
    "\n",
    "    fea = input_fea.values.tolist()\n",
    "    for index in range(len(fea)):\n",
    "        if(index<train_size):\n",
    "            train_x.append(fea[index]) \n",
    "            train_y.append(label[index])\n",
    "        else:\n",
    "            test_x.append(fea[index]) \n",
    "            test_y.append(label[index])\n",
    "    return np.array(train_x), np.array(train_y), np.array(test_x), np.array(test_y)"
   ]
  },
  {
   "cell_type": "code",
   "execution_count": 82,
   "id": "simplified-pitch",
   "metadata": {},
   "outputs": [],
   "source": [
    "train_x, train_y, test_x, test_y = partition(samples, labels, 0.2)"
   ]
  },
  {
   "cell_type": "code",
   "execution_count": 83,
   "id": "descending-printer",
   "metadata": {},
   "outputs": [
    {
     "data": {
      "text/plain": [
       "(3169, 8)"
      ]
     },
     "execution_count": 83,
     "metadata": {},
     "output_type": "execute_result"
    }
   ],
   "source": [
    "train_x.shape"
   ]
  },
  {
   "cell_type": "code",
   "execution_count": 55,
   "id": "involved-riding",
   "metadata": {},
   "outputs": [],
   "source": [
    "from sklearn.preprocessing import StandardScaler"
   ]
  },
  {
   "cell_type": "code",
   "execution_count": 56,
   "id": "racial-pitch",
   "metadata": {},
   "outputs": [],
   "source": [
    "scaler = StandardScaler()\n",
    "scaler.fit(train_x)\n",
    "train_standard = scaler.transform(train_x)\n",
    "test_standard = scaler.transform(test_x)"
   ]
  },
  {
   "cell_type": "code",
   "execution_count": 57,
   "id": "expected-commonwealth",
   "metadata": {},
   "outputs": [
    {
     "data": {
      "text/plain": [
       "array([[ 0.40466327,  2.92625931, -0.52918309, -0.60485195, -0.45035623,\n",
       "        -1.0015163 , -0.15275914,  0.35863537],\n",
       "       [ 2.24989429,  0.49166639,  0.8368294 , -0.95127027, -1.17657248,\n",
       "        -0.72274046, -1.5584516 , -0.78385623]])"
      ]
     },
     "execution_count": 57,
     "metadata": {},
     "output_type": "execute_result"
    }
   ],
   "source": [
    "train_standard[:2]"
   ]
  },
  {
   "cell_type": "code",
   "execution_count": 58,
   "id": "wireless-fraud",
   "metadata": {},
   "outputs": [],
   "source": [
    "train_mean = np.mean(train_x, axis=0)\n",
    "test_mean = np.mean(test_x, axis=0)"
   ]
  },
  {
   "cell_type": "code",
   "execution_count": 59,
   "id": "meaningful-morocco",
   "metadata": {},
   "outputs": [
    {
     "data": {
      "text/plain": [
       "array([6.84911644e+00, 2.79512464e-01, 3.35856737e-01, 4.59681287e-02,\n",
       "       1.37224361e+02, 9.93825891e-01, 3.19282108e+00, 4.89192174e-01])"
      ]
     },
     "execution_count": 59,
     "metadata": {},
     "output_type": "execute_result"
    }
   ],
   "source": [
    "train_mean"
   ]
  },
  {
   "cell_type": "code",
   "execution_count": 84,
   "id": "pregnant-polls",
   "metadata": {},
   "outputs": [],
   "source": [
    "def standard_fea(arr, mean_arr):\n",
    "    train_standard = []\n",
    "    for col in range(arr.shape[1]):\n",
    "        temp_col = []\n",
    "        std_v = 0\n",
    "        for ele in arr[:, col]:\n",
    "            std_v = std_v+(ele - mean_arr[col])**2\n",
    "            \n",
    "        math.sqrt(std_v/np.array(arr).shape[1])\n",
    "        for ele in arr[:, col]:\n",
    "            new_value = (ele-mean_arr[col])/std_v\n",
    "            temp_col.append(new_value)\n",
    "        train_standard.append(temp_col)\n",
    "    train_standard = np.array(train_standard)\n",
    "    train_standard = np.transpose(train_standard)\n",
    "\n",
    "    return train_standard"
   ]
  },
  {
   "cell_type": "code",
   "execution_count": 85,
   "id": "dirty-dover",
   "metadata": {},
   "outputs": [],
   "source": [
    "train_standard = standard_fea(train_x, train_mean)"
   ]
  },
  {
   "cell_type": "code",
   "execution_count": 86,
   "id": "written-editor",
   "metadata": {},
   "outputs": [
    {
     "data": {
      "text/plain": [
       "array([ 1.47265938e-04,  8.99242689e-03, -1.34180520e-03, -8.26490192e-03,\n",
       "       -3.32918712e-06, -1.07442737e-01, -3.22668061e-04,  9.94581881e-04])"
      ]
     },
     "execution_count": 86,
     "metadata": {},
     "output_type": "execute_result"
    }
   ],
   "source": [
    "train_standard[0]"
   ]
  },
  {
   "cell_type": "code",
   "execution_count": 87,
   "id": "incorporated-beaver",
   "metadata": {},
   "outputs": [
    {
     "data": {
      "text/plain": [
       "array([7.2000e+00, 5.8000e-01, 2.7000e-01, 3.2000e-02, 1.1800e+02,\n",
       "       9.9088e-01, 3.1700e+00, 5.3000e-01])"
      ]
     },
     "execution_count": 87,
     "metadata": {},
     "output_type": "execute_result"
    }
   ],
   "source": [
    "train_x[0]"
   ]
  },
  {
   "cell_type": "code",
   "execution_count": 88,
   "id": "three-payroll",
   "metadata": {},
   "outputs": [],
   "source": [
    "test_standard = standard_fea(test_x, test_mean)"
   ]
  },
  {
   "cell_type": "markdown",
   "id": "structured-airplane",
   "metadata": {},
   "source": [
    "# Part C (Model Evaluation): 30 points"
   ]
  },
  {
   "cell_type": "markdown",
   "id": "indonesian-julian",
   "metadata": {},
   "source": [
    "### 10. Model selection via Hyperparameter tuning: Use the kFold function (known as sFold function from previous assignment) to evaluate the performance of your model over each combination of lambda, learning_rate and regularizer from the following sets: [15 pts]"
   ]
  },
  {
   "cell_type": "code",
   "execution_count": 65,
   "id": "controlling-visitor",
   "metadata": {},
   "outputs": [
    {
     "name": "stdout",
     "output_type": "stream",
     "text": [
      "(2532, 8)\n",
      "(2532, 8)\n",
      "(2532, 8)\n",
      "(2532, 8)\n",
      "(2532, 8)\n",
      "(2532, 8)\n",
      "(2532, 8)\n",
      "(2532, 8)\n",
      "(2532, 8)\n",
      "(2532, 8)\n",
      "(2532, 8)\n",
      "(2532, 8)\n",
      "(2532, 8)\n",
      "(2532, 8)\n",
      "(2532, 8)\n",
      "(2532, 8)\n",
      "(2532, 8)\n",
      "(2532, 8)\n",
      "(2532, 8)\n",
      "(2532, 8)\n",
      "(2532, 8)\n",
      "(2532, 8)\n",
      "(2532, 8)\n",
      "(2532, 8)\n",
      "(2532, 8)\n",
      "(2532, 8)\n",
      "(2532, 8)\n",
      "(2532, 8)\n",
      "(2532, 8)\n",
      "(2532, 8)\n",
      "(2532, 8)\n",
      "(2532, 8)\n",
      "(2532, 8)\n",
      "(2532, 8)\n",
      "(2532, 8)\n",
      "(2532, 8)\n",
      "(2532, 8)\n",
      "(2532, 8)\n",
      "(2532, 8)\n",
      "(2532, 8)\n",
      "(2532, 8)\n",
      "(2532, 8)\n",
      "(2532, 8)\n",
      "(2532, 8)\n",
      "(2532, 8)\n",
      "(2532, 8)\n",
      "(2532, 8)\n",
      "(2532, 8)\n",
      "(2532, 8)\n",
      "(2532, 8)\n",
      "(2532, 8)\n",
      "(2532, 8)\n",
      "(2532, 8)\n",
      "(2532, 8)\n",
      "(2532, 8)\n",
      "(2532, 8)\n",
      "(2532, 8)\n",
      "(2532, 8)\n",
      "(2532, 8)\n",
      "(2532, 8)\n",
      "(2532, 8)\n",
      "(2532, 8)\n",
      "(2532, 8)\n",
      "(2532, 8)\n",
      "(2532, 8)\n",
      "(2532, 8)\n",
      "(2532, 8)\n",
      "(2532, 8)\n",
      "(2532, 8)\n",
      "(2532, 8)\n",
      "(2532, 8)\n",
      "(2532, 8)\n",
      "(2532, 8)\n",
      "(2532, 8)\n",
      "(2532, 8)\n",
      "(2532, 8)\n",
      "(2532, 8)\n",
      "(2532, 8)\n",
      "(2532, 8)\n",
      "(2532, 8)\n",
      "(2532, 8)\n",
      "(2532, 8)\n",
      "(2532, 8)\n",
      "(2532, 8)\n",
      "(2532, 8)\n",
      "(2532, 8)\n",
      "(2532, 8)\n",
      "(2532, 8)\n",
      "(2532, 8)\n",
      "(2532, 8)\n",
      "(2532, 8)\n",
      "(2532, 8)\n",
      "(2532, 8)\n",
      "(2532, 8)\n",
      "(2532, 8)\n",
      "(2532, 8)\n",
      "(2532, 8)\n",
      "(2532, 8)\n",
      "(2532, 8)\n",
      "(2532, 8)\n",
      "(2532, 8)\n",
      "(2532, 8)\n",
      "(2532, 8)\n",
      "(2532, 8)\n",
      "(2532, 8)\n",
      "(2532, 8)\n",
      "(2532, 8)\n",
      "(2532, 8)\n",
      "(2532, 8)\n",
      "(2532, 8)\n",
      "(2532, 8)\n",
      "(2532, 8)\n",
      "(2532, 8)\n",
      "(2532, 8)\n",
      "(2532, 8)\n",
      "(2532, 8)\n",
      "(2532, 8)\n",
      "(2532, 8)\n",
      "(2532, 8)\n",
      "(2532, 8)\n",
      "(2532, 8)\n",
      "(2532, 8)\n",
      "(2532, 8)\n",
      "(2532, 8)\n",
      "(2532, 8)\n",
      "(2532, 8)\n",
      "(2532, 8)\n",
      "(2532, 8)\n",
      "(2532, 8)\n",
      "(2532, 8)\n",
      "(2532, 8)\n",
      "(2532, 8)\n",
      "(2532, 8)\n",
      "(2532, 8)\n",
      "(2532, 8)\n",
      "(2532, 8)\n",
      "(2532, 8)\n",
      "(2532, 8)\n",
      "(2532, 8)\n",
      "(2532, 8)\n",
      "(2532, 8)\n",
      "(2532, 8)\n",
      "(2532, 8)\n",
      "(2532, 8)\n",
      "(2532, 8)\n",
      "(2532, 8)\n",
      "(2532, 8)\n",
      "(2532, 8)\n",
      "(2532, 8)\n",
      "(2532, 8)\n",
      "(2532, 8)\n",
      "(2532, 8)\n",
      "(2532, 8)\n",
      "(2532, 8)\n",
      "(2532, 8)\n",
      "(2532, 8)\n",
      "(2532, 8)\n",
      "(2532, 8)\n",
      "(2532, 8)\n",
      "(2532, 8)\n",
      "(2532, 8)\n",
      "(2532, 8)\n",
      "(2532, 8)\n",
      "(2532, 8)\n",
      "(2532, 8)\n",
      "(2532, 8)\n",
      "(2532, 8)\n",
      "(2532, 8)\n",
      "(2532, 8)\n",
      "(2532, 8)\n",
      "(2532, 8)\n",
      "(2532, 8)\n",
      "(2532, 8)\n",
      "(2532, 8)\n",
      "(2532, 8)\n",
      "(2532, 8)\n",
      "(2532, 8)\n",
      "(2532, 8)\n",
      "(2532, 8)\n",
      "(2532, 8)\n",
      "(2532, 8)\n",
      "(2532, 8)\n",
      "(2532, 8)\n",
      "(2532, 8)\n",
      "(2532, 8)\n",
      "(2532, 8)\n",
      "(2532, 8)\n",
      "(2532, 8)\n",
      "(2532, 8)\n",
      "(2532, 8)\n",
      "(2532, 8)\n",
      "(2532, 8)\n",
      "(2532, 8)\n",
      "(2532, 8)\n",
      "(2532, 8)\n",
      "(2532, 8)\n",
      "(2532, 8)\n",
      "(2532, 8)\n",
      "(2532, 8)\n",
      "(2532, 8)\n",
      "(2532, 8)\n",
      "(2532, 8)\n",
      "(2532, 8)\n",
      "(2532, 8)\n",
      "(2532, 8)\n",
      "(2532, 8)\n",
      "(2532, 8)\n",
      "(2532, 8)\n",
      "(2532, 8)\n",
      "(2532, 8)\n",
      "(2532, 8)\n",
      "(2532, 8)\n",
      "(2532, 8)\n",
      "(2532, 8)\n",
      "(2532, 8)\n",
      "(2532, 8)\n",
      "(2532, 8)\n",
      "(2532, 8)\n",
      "(2532, 8)\n",
      "(2532, 8)\n",
      "(2532, 8)\n",
      "(2532, 8)\n",
      "(2532, 8)\n",
      "(2532, 8)\n",
      "(2532, 8)\n",
      "(2532, 8)\n",
      "(2532, 8)\n",
      "(2532, 8)\n",
      "(2532, 8)\n",
      "(2532, 8)\n",
      "(2532, 8)\n",
      "(2532, 8)\n",
      "(2532, 8)\n",
      "(2532, 8)\n",
      "(2532, 8)\n",
      "(2532, 8)\n",
      "(2532, 8)\n",
      "(2532, 8)\n",
      "(2532, 8)\n",
      "(2532, 8)\n"
     ]
    }
   ],
   "source": [
    "model = Linear_Regression()\n",
    "lamda = [1.0, 0, 0.1, 0.01, 0.001, 0.0001]\n",
    "learning_rate = [0.1, 0.01, 0.001, 0.001]\n",
    "regularizer = ['l1', 'l2']\n",
    "\n",
    "ret_list = []\n",
    "\n",
    "for l in lamda:\n",
    "    for lr in learning_rate:\n",
    "        for reg in regularizer:\n",
    "            ret = sFold(5, train_standard, train_y, model, None, mse, lr, 50, None, reg, l, None)\n",
    "            ret_list.append(ret)"
   ]
  },
  {
   "cell_type": "code",
   "execution_count": 66,
   "id": "unlikely-coverage",
   "metadata": {},
   "outputs": [
    {
     "name": "stdout",
     "output_type": "stream",
     "text": [
      "1.9899243757212046e+203\n",
      "2.282543230607933e+203\n",
      "3.463821913475715e+99\n",
      "7.053015123875679e+99\n",
      "0.6470570604322775\n",
      "0.6470779494419205\n",
      "0.6470570744660668\n",
      "0.6470780084569105\n",
      "2.4158222453689554e+203\n",
      "2.7334349392882767e+203\n",
      "8.575351053721727e+99\n",
      "8.5956203155889e+99\n",
      "0.6470818524182305\n",
      "0.6470818238268656\n",
      "0.647081829659965\n",
      "0.647081763383073\n",
      "2.684978701497705e+203\n",
      "1.6158127776868912e+203\n",
      "5.814958965848892e+99\n",
      "1.1793949508165553e+100\n",
      "0.6470793180605657\n",
      "0.6470814507201613\n",
      "0.6470792877072269\n",
      "0.6470813907594698\n",
      "1.9965994639933764e+203\n",
      "3.047946401793892e+203\n",
      "7.239250177351015e+99\n",
      "7.516888867817593e+99\n",
      "0.6470816067225179\n",
      "0.6470817217225813\n",
      "0.6470814969583474\n",
      "0.6470817743507038\n",
      "2.9076391404236505e+203\n",
      "1.575570263575414e+203\n",
      "2.0448050804898233e+99\n",
      "6.933167443846495e+99\n",
      "0.647081738120996\n",
      "0.6470817461613146\n",
      "0.6470818145687158\n",
      "0.6470818455022511\n",
      "3.604410217618664e+203\n",
      "5.1612781303327136e+203\n",
      "7.90557135401031e+99\n",
      "1.1001290854929028e+100\n",
      "0.6470818041860775\n",
      "0.6470817990490951\n",
      "0.6470817914338539\n",
      "0.647081781198964\n",
      "0.6470570604322775\n"
     ]
    }
   ],
   "source": [
    "l = []\n",
    "for ele in ret_list:\n",
    "    l.append(ele[\"Average_test_error\"])\n",
    "    print(ele[\"Average_test_error\"])\n",
    "print(min(np.array(l)))"
   ]
  },
  {
   "cell_type": "markdown",
   "id": "miniature-congo",
   "metadata": {},
   "source": [
    "### 11. Evaluate your model on the test data and report the mean squared error. [5 pts]"
   ]
  },
  {
   "cell_type": "code",
   "execution_count": 67,
   "id": "designed-cambodia",
   "metadata": {},
   "outputs": [],
   "source": [
    "model = Linear_Regression()\n",
    "model.fit(train_standard, train_y, 0.001, 50, None, 'l1', 0, None)"
   ]
  },
  {
   "cell_type": "code",
   "execution_count": 68,
   "id": "caring-distribution",
   "metadata": {},
   "outputs": [],
   "source": [
    "pred_Y = model.predict(test_standard)"
   ]
  },
  {
   "cell_type": "code",
   "execution_count": 69,
   "id": "lovely-walnut",
   "metadata": {},
   "outputs": [
    {
     "data": {
      "text/plain": [
       "0.7147517798609263"
      ]
     },
     "execution_count": 69,
     "metadata": {},
     "output_type": "execute_result"
    }
   ],
   "source": [
    "err = mse(test_y, pred_Y)\n",
    "err"
   ]
  },
  {
   "cell_type": "markdown",
   "id": "clinical-poster",
   "metadata": {},
   "source": [
    "### 12. Using the best model plot the learning curve. Use the rmse values obtained from the “learning_curve” function to plot this curve. [5 pts]"
   ]
  },
  {
   "cell_type": "code",
   "execution_count": 70,
   "id": "passive-medium",
   "metadata": {},
   "outputs": [
    {
     "name": "stdout",
     "output_type": "stream",
     "text": [
      "(76, 8)\n",
      "(76, 8)\n",
      "(76, 8)\n",
      "(76, 8)\n",
      "(76, 8)\n",
      "(156, 8)\n",
      "(156, 8)\n",
      "(156, 8)\n",
      "(156, 8)\n",
      "(156, 8)\n",
      "(236, 8)\n",
      "(236, 8)\n",
      "(236, 8)\n",
      "(236, 8)\n",
      "(236, 8)\n",
      "(316, 8)\n",
      "(316, 8)\n",
      "(316, 8)\n",
      "(316, 8)\n",
      "(316, 8)\n",
      "(396, 8)\n",
      "(396, 8)\n",
      "(396, 8)\n",
      "(396, 8)\n",
      "(396, 8)\n",
      "(472, 8)\n",
      "(472, 8)\n",
      "(472, 8)\n",
      "(472, 8)\n",
      "(472, 8)\n",
      "(552, 8)\n",
      "(552, 8)\n",
      "(552, 8)\n",
      "(552, 8)\n",
      "(552, 8)\n",
      "(632, 8)\n",
      "(632, 8)\n",
      "(632, 8)\n",
      "(632, 8)\n",
      "(632, 8)\n",
      "(712, 8)\n",
      "(712, 8)\n",
      "(712, 8)\n",
      "(712, 8)\n",
      "(712, 8)\n",
      "(792, 8)\n",
      "(792, 8)\n",
      "(792, 8)\n",
      "(792, 8)\n",
      "(792, 8)\n",
      "(868, 8)\n",
      "(868, 8)\n",
      "(868, 8)\n",
      "(868, 8)\n",
      "(868, 8)\n",
      "(948, 8)\n",
      "(948, 8)\n",
      "(948, 8)\n",
      "(948, 8)\n",
      "(948, 8)\n",
      "(1028, 8)\n",
      "(1028, 8)\n",
      "(1028, 8)\n",
      "(1028, 8)\n",
      "(1028, 8)\n",
      "(1108, 8)\n",
      "(1108, 8)\n",
      "(1108, 8)\n",
      "(1108, 8)\n",
      "(1108, 8)\n",
      "(1188, 8)\n",
      "(1188, 8)\n",
      "(1188, 8)\n",
      "(1188, 8)\n",
      "(1188, 8)\n",
      "(1264, 8)\n",
      "(1264, 8)\n",
      "(1264, 8)\n",
      "(1264, 8)\n",
      "(1264, 8)\n",
      "(1344, 8)\n",
      "(1344, 8)\n",
      "(1344, 8)\n",
      "(1344, 8)\n",
      "(1344, 8)\n",
      "(1424, 8)\n",
      "(1424, 8)\n",
      "(1424, 8)\n",
      "(1424, 8)\n",
      "(1424, 8)\n",
      "(1504, 8)\n",
      "(1504, 8)\n",
      "(1504, 8)\n",
      "(1504, 8)\n",
      "(1504, 8)\n",
      "(1584, 8)\n",
      "(1584, 8)\n",
      "(1584, 8)\n",
      "(1584, 8)\n",
      "(1584, 8)\n",
      "(1660, 8)\n",
      "(1660, 8)\n",
      "(1660, 8)\n",
      "(1660, 8)\n",
      "(1660, 8)\n",
      "(1740, 8)\n",
      "(1740, 8)\n",
      "(1740, 8)\n",
      "(1740, 8)\n",
      "(1740, 8)\n",
      "(1820, 8)\n",
      "(1820, 8)\n",
      "(1820, 8)\n",
      "(1820, 8)\n",
      "(1820, 8)\n",
      "(1900, 8)\n",
      "(1900, 8)\n",
      "(1900, 8)\n",
      "(1900, 8)\n",
      "(1900, 8)\n",
      "(1980, 8)\n",
      "(1980, 8)\n",
      "(1980, 8)\n",
      "(1980, 8)\n",
      "(1980, 8)\n",
      "(2056, 8)\n",
      "(2056, 8)\n",
      "(2056, 8)\n",
      "(2056, 8)\n",
      "(2056, 8)\n",
      "(2136, 8)\n",
      "(2136, 8)\n",
      "(2136, 8)\n",
      "(2136, 8)\n",
      "(2136, 8)\n",
      "(2216, 8)\n",
      "(2216, 8)\n",
      "(2216, 8)\n",
      "(2216, 8)\n",
      "(2216, 8)\n",
      "(2296, 8)\n",
      "(2296, 8)\n",
      "(2296, 8)\n",
      "(2296, 8)\n",
      "(2296, 8)\n",
      "(2376, 8)\n",
      "(2376, 8)\n",
      "(2376, 8)\n",
      "(2376, 8)\n",
      "(2376, 8)\n",
      "(2452, 8)\n",
      "(2452, 8)\n",
      "(2452, 8)\n",
      "(2452, 8)\n",
      "(2452, 8)\n",
      "(2532, 8)\n",
      "(2532, 8)\n",
      "(2532, 8)\n",
      "(2532, 8)\n",
      "(2532, 8)\n"
     ]
    }
   ],
   "source": [
    "train_err, val_err = train_val_mse(model, train_standard, train_y, 5, 100, 0.001, 50, None, 'l1', 0, None)"
   ]
  },
  {
   "cell_type": "code",
   "execution_count": 71,
   "id": "expected-beast",
   "metadata": {},
   "outputs": [
    {
     "data": {
      "text/plain": [
       "[7.765472002274525,\n",
       " 1.873251150350724,\n",
       " 0.8718338825376692,\n",
       " 0.724652622999001,\n",
       " 0.6789706985528653,\n",
       " 0.6578795997711823,\n",
       " 0.6749858660757784,\n",
       " 0.6704936085766057,\n",
       " 0.6670516508834959,\n",
       " 0.644100362311627,\n",
       " 0.644076632823819,\n",
       " 0.6393608414542086,\n",
       " 0.6506136975560917,\n",
       " 0.6538281711801293,\n",
       " 0.6499164706027265,\n",
       " 0.6578830626285038,\n",
       " 0.6538872086774592,\n",
       " 0.6599329718115076,\n",
       " 0.6614539138064393,\n",
       " 0.6673427364743618,\n",
       " 0.662280844212546,\n",
       " 0.6582270198681076,\n",
       " 0.653019841131463,\n",
       " 0.6525995906007175,\n",
       " 0.6533378457765868,\n",
       " 0.6510289830714963,\n",
       " 0.6524564427357205,\n",
       " 0.6507869148937654,\n",
       " 0.6467765143744708,\n",
       " 0.6424151922324061,\n",
       " 0.6501185571207003,\n",
       " 0.6470818349701566]"
      ]
     },
     "execution_count": 71,
     "metadata": {},
     "output_type": "execute_result"
    }
   ],
   "source": [
    "val_err"
   ]
  },
  {
   "cell_type": "code",
   "execution_count": 72,
   "id": "important-knowing",
   "metadata": {},
   "outputs": [
    {
     "data": {
      "text/plain": [
       "[7.0387632122386234,\n",
       " 1.71944763910868,\n",
       " 0.8174999559558307,\n",
       " 0.6780020760319367,\n",
       " 0.6430814600245228,\n",
       " 0.6252974999872817,\n",
       " 0.6449188408885492,\n",
       " 0.6527543141445848,\n",
       " 0.6498239835987285,\n",
       " 0.6290538141358277,\n",
       " 0.633455987709912,\n",
       " 0.6278239147410394,\n",
       " 0.6421043673518632,\n",
       " 0.6458810227066214,\n",
       " 0.6409885970736692,\n",
       " 0.6477094766176239,\n",
       " 0.6485661107824713,\n",
       " 0.6514280362977327,\n",
       " 0.6520295384518282,\n",
       " 0.6582220033381599,\n",
       " 0.6549099807822049,\n",
       " 0.6521338837338894,\n",
       " 0.6474961541126247,\n",
       " 0.6470637961745231,\n",
       " 0.6475182955299725,\n",
       " 0.6452427145047708,\n",
       " 0.6461064493638741,\n",
       " 0.6454148057483876,\n",
       " 0.6410608679892246,\n",
       " 0.6376943934696195,\n",
       " 0.6425884507161659,\n",
       " 0.6394480655488126]"
      ]
     },
     "execution_count": 72,
     "metadata": {},
     "output_type": "execute_result"
    }
   ],
   "source": [
    "train_err"
   ]
  },
  {
   "cell_type": "code",
   "execution_count": 73,
   "id": "corrected-amazon",
   "metadata": {},
   "outputs": [
    {
     "data": {
      "image/png": "[encoded data removed]",
      "text/plain": [
       "<Figure size 648x648 with 1 Axes>"
      ]
     },
     "metadata": {
      "needs_background": "light"
     },
     "output_type": "display_data"
    },
    {
     "data": {
      "text/plain": [
       "<Figure size 648x648 with 0 Axes>"
      ]
     },
     "metadata": {},
     "output_type": "display_data"
    }
   ],
   "source": [
    "def plot_fun(train_err, val_err):\n",
    "    plt.figure()\n",
    "\n",
    "    samples = range(32)\n",
    "    plt.plot(samples,train_err, color='b',\n",
    "             lw=2, label='train learning curve')\n",
    "    plt.plot(samples,val_err,  color='r',\n",
    "             lw=2, label='validation curve')\n",
    "    #plt.plot([0, 1], [0, 1], color='navy', lw=2, linestyle='--')\n",
    "\n",
    "\n",
    "    plt.xlim([0, 32])\n",
    "    plt.ylim([0.00, 8])\n",
    "    plt.xlabel('sample') \n",
    "    plt.ylabel('error') \n",
    "    plt.title('learning curve') \n",
    "    plt.show \n",
    "\n",
    "    plt.figure()\n",
    "\n",
    "plot_fun(train_err, val_err)"
   ]
  },
  {
   "cell_type": "markdown",
   "id": "interesting-stockholm",
   "metadata": {},
   "source": [
    "### 13. Determine the best model hyperparameter values for the training data matrix with polynomial degree 3 and plot the learning curve. Use the rmse values obtained from the “learning_curve” function to plot this curve. [5 pts]"
   ]
  },
  {
   "cell_type": "code",
   "execution_count": 74,
   "id": "simple-stevens",
   "metadata": {},
   "outputs": [],
   "source": [
    "poly = PolynomialFeatures(3)                      # [a, b]->[1, a, b, a^2, ab, b^2]\n",
    "poly.fit(train_x)\n",
    "new_train = poly.transform(train_x)\n",
    "new_test = poly.transform(test_x)"
   ]
  },
  {
   "cell_type": "code",
   "execution_count": 75,
   "id": "connected-iceland",
   "metadata": {},
   "outputs": [],
   "source": [
    "scaler = StandardScaler()\n",
    "scaler.fit(new_train)\n",
    "train_standard = scaler.transform(new_train)\n",
    "test_standard = scaler.transform(new_test)"
   ]
  },
  {
   "cell_type": "code",
   "execution_count": 76,
   "id": "improving-hometown",
   "metadata": {},
   "outputs": [
    {
     "name": "stdout",
     "output_type": "stream",
     "text": [
      "(2532, 165)\n",
      "(2532, 165)\n",
      "(2532, 165)\n",
      "(2532, 165)\n",
      "(2532, 165)\n",
      "(2532, 165)\n",
      "(2532, 165)\n",
      "(2532, 165)\n",
      "(2532, 165)\n",
      "(2532, 165)\n",
      "(2532, 165)\n",
      "(2532, 165)\n",
      "(2532, 165)\n",
      "(2532, 165)\n",
      "(2532, 165)\n",
      "(2532, 165)\n",
      "(2532, 165)\n",
      "(2532, 165)\n",
      "(2532, 165)\n",
      "(2532, 165)\n",
      "(2532, 165)\n",
      "(2532, 165)\n",
      "(2532, 165)\n",
      "(2532, 165)\n",
      "(2532, 165)\n",
      "(2532, 165)\n",
      "(2532, 165)\n",
      "(2532, 165)\n",
      "(2532, 165)\n",
      "(2532, 165)\n",
      "(2532, 165)\n",
      "(2532, 165)\n",
      "(2532, 165)\n",
      "(2532, 165)\n",
      "(2532, 165)\n",
      "(2532, 165)\n",
      "(2532, 165)\n",
      "(2532, 165)\n",
      "(2532, 165)\n",
      "(2532, 165)\n",
      "(2532, 165)\n",
      "(2532, 165)\n",
      "(2532, 165)\n",
      "(2532, 165)\n",
      "(2532, 165)\n",
      "(2532, 165)\n",
      "(2532, 165)\n",
      "(2532, 165)\n",
      "(2532, 165)\n",
      "(2532, 165)\n",
      "(2532, 165)\n",
      "(2532, 165)\n",
      "(2532, 165)\n",
      "(2532, 165)\n",
      "(2532, 165)\n",
      "(2532, 165)\n",
      "(2532, 165)\n",
      "(2532, 165)\n",
      "(2532, 165)\n",
      "(2532, 165)\n",
      "(2532, 165)\n",
      "(2532, 165)\n",
      "(2532, 165)\n",
      "(2532, 165)\n",
      "(2532, 165)\n",
      "(2532, 165)\n",
      "(2532, 165)\n",
      "(2532, 165)\n",
      "(2532, 165)\n",
      "(2532, 165)\n",
      "(2532, 165)\n",
      "(2532, 165)\n",
      "(2532, 165)\n",
      "(2532, 165)\n",
      "(2532, 165)\n",
      "(2532, 165)\n",
      "(2532, 165)\n",
      "(2532, 165)\n",
      "(2532, 165)\n",
      "(2532, 165)\n",
      "(2532, 165)\n",
      "(2532, 165)\n",
      "(2532, 165)\n",
      "(2532, 165)\n",
      "(2532, 165)\n",
      "(2532, 165)\n",
      "(2532, 165)\n",
      "(2532, 165)\n",
      "(2532, 165)\n",
      "(2532, 165)\n",
      "(2532, 165)\n",
      "(2532, 165)\n",
      "(2532, 165)\n",
      "(2532, 165)\n",
      "(2532, 165)\n",
      "(2532, 165)\n",
      "(2532, 165)\n",
      "(2532, 165)\n",
      "(2532, 165)\n",
      "(2532, 165)\n",
      "(2532, 165)\n",
      "(2532, 165)\n",
      "(2532, 165)\n",
      "(2532, 165)\n",
      "(2532, 165)\n",
      "(2532, 165)\n",
      "(2532, 165)\n",
      "(2532, 165)\n",
      "(2532, 165)\n",
      "(2532, 165)\n",
      "(2532, 165)\n",
      "(2532, 165)\n",
      "(2532, 165)\n",
      "(2532, 165)\n",
      "(2532, 165)\n",
      "(2532, 165)\n",
      "(2532, 165)\n",
      "(2532, 165)\n",
      "(2532, 165)\n",
      "(2532, 165)\n",
      "(2532, 165)\n",
      "(2532, 165)\n",
      "(2532, 165)\n",
      "(2532, 165)\n",
      "(2532, 165)\n",
      "(2532, 165)\n",
      "(2532, 165)\n",
      "(2532, 165)\n",
      "(2532, 165)\n",
      "(2532, 165)\n",
      "(2532, 165)\n",
      "(2532, 165)\n",
      "(2532, 165)\n",
      "(2532, 165)\n",
      "(2532, 165)\n",
      "(2532, 165)\n",
      "(2532, 165)\n",
      "(2532, 165)\n",
      "(2532, 165)\n",
      "(2532, 165)\n",
      "(2532, 165)\n",
      "(2532, 165)\n",
      "(2532, 165)\n",
      "(2532, 165)\n",
      "(2532, 165)\n",
      "(2532, 165)\n",
      "(2532, 165)\n",
      "(2532, 165)\n",
      "(2532, 165)\n",
      "(2532, 165)\n",
      "(2532, 165)\n",
      "(2532, 165)\n",
      "(2532, 165)\n",
      "(2532, 165)\n",
      "(2532, 165)\n",
      "(2532, 165)\n",
      "(2532, 165)\n",
      "(2532, 165)\n",
      "(2532, 165)\n",
      "(2532, 165)\n",
      "(2532, 165)\n",
      "(2532, 165)\n",
      "(2532, 165)\n",
      "(2532, 165)\n",
      "(2532, 165)\n",
      "(2532, 165)\n",
      "(2532, 165)\n",
      "(2532, 165)\n",
      "(2532, 165)\n",
      "(2532, 165)\n",
      "(2532, 165)\n",
      "(2532, 165)\n",
      "(2532, 165)\n",
      "(2532, 165)\n",
      "(2532, 165)\n",
      "(2532, 165)\n",
      "(2532, 165)\n",
      "(2532, 165)\n",
      "(2532, 165)\n",
      "(2532, 165)\n",
      "(2532, 165)\n",
      "(2532, 165)\n",
      "(2532, 165)\n",
      "(2532, 165)\n",
      "(2532, 165)\n",
      "(2532, 165)\n",
      "(2532, 165)\n",
      "(2532, 165)\n",
      "(2532, 165)\n",
      "(2532, 165)\n",
      "(2532, 165)\n",
      "(2532, 165)\n",
      "(2532, 165)\n",
      "(2532, 165)\n",
      "(2532, 165)\n",
      "(2532, 165)\n",
      "(2532, 165)\n",
      "(2532, 165)\n",
      "(2532, 165)\n",
      "(2532, 165)\n",
      "(2532, 165)\n",
      "(2532, 165)\n",
      "(2532, 165)\n",
      "(2532, 165)\n",
      "(2532, 165)\n",
      "(2532, 165)\n",
      "(2532, 165)\n",
      "(2532, 165)\n",
      "(2532, 165)\n",
      "(2532, 165)\n",
      "(2532, 165)\n",
      "(2532, 165)\n",
      "(2532, 165)\n",
      "(2532, 165)\n",
      "(2532, 165)\n",
      "(2532, 165)\n",
      "(2532, 165)\n",
      "(2532, 165)\n",
      "(2532, 165)\n",
      "(2532, 165)\n",
      "(2532, 165)\n",
      "(2532, 165)\n",
      "(2532, 165)\n",
      "(2532, 165)\n",
      "(2532, 165)\n",
      "(2532, 165)\n",
      "(2532, 165)\n",
      "(2532, 165)\n",
      "(2532, 165)\n",
      "(2532, 165)\n",
      "(2532, 165)\n",
      "(2532, 165)\n",
      "(2532, 165)\n",
      "(2532, 165)\n",
      "(2532, 165)\n",
      "(2532, 165)\n",
      "(2532, 165)\n",
      "(2532, 165)\n",
      "(2532, 165)\n",
      "(2532, 165)\n"
     ]
    }
   ],
   "source": [
    "model = Linear_Regression()\n",
    "lamda = [1.0, 0, 0.1, 0.01, 0.001, 0.0001]\n",
    "learning_rate = [0.1, 0.01, 0.001, 0.001]\n",
    "regularizer = ['l1', 'l2']\n",
    "\n",
    "ret_list = []\n",
    "\n",
    "for l in lamda:\n",
    "    for lr in learning_rate:\n",
    "        for reg in regularizer:\n",
    "            ret = sFold(5, train_standard, train_y, model, None, mse, lr, 50, None, reg, l, None)\n",
    "            ret_list.append(ret)"
   ]
  },
  {
   "cell_type": "code",
   "execution_count": 77,
   "id": "threaded-marathon",
   "metadata": {},
   "outputs": [
    {
     "name": "stdout",
     "output_type": "stream",
     "text": [
      "3.051939046690324e+221\n",
      "1.1325610585380839e+221\n",
      "1.0937237755808805e+119\n",
      "1.9175579253984832e+119\n",
      "2.3186771826472135\n",
      "2.3052949327473\n",
      "2.255596896179498\n",
      "2.297233967680918\n",
      "3.884055646536252e+221\n",
      "1.7448496951800046e+221\n",
      "1.1369361522692737e+119\n",
      "4.929996783842272e+118\n",
      "2.271091223262813\n",
      "2.2859310260731096\n",
      "2.2806010502654637\n",
      "2.2603147366910883\n",
      "2.285939194446338e+221\n",
      "6.149130069128089e+221\n",
      "9.656229496651849e+117\n",
      "1.4961823581836012e+119\n",
      "2.2644285508780495\n",
      "2.2627162903330658\n",
      "2.239021057495176\n",
      "2.2827024987210978\n",
      "6.996689743392749e+220\n",
      "7.274132513521804e+220\n",
      "4.3329133581363276e+119\n",
      "4.376830464718065e+119\n",
      "2.3243653272736107\n",
      "2.272498660995973\n",
      "2.295042839835691\n",
      "2.2905671500219937\n",
      "1.493466411515705e+221\n",
      "2.9849916986032735e+221\n",
      "3.564842384238125e+119\n",
      "1.9207176498211597e+118\n",
      "2.280825769645085\n",
      "2.241725321581844\n",
      "2.2711320412935256\n",
      "2.236442124426979\n",
      "6.511177617227374e+221\n",
      "3.6386618922778793e+220\n",
      "4.2370136535369375e+118\n",
      "6.643974360129806e+119\n",
      "2.250310948350914\n",
      "2.2808172476907806\n",
      "2.289062261011325\n",
      "2.2754372812047494\n",
      "2.236442124426979\n"
     ]
    }
   ],
   "source": [
    "l = []\n",
    "for ele in ret_list:\n",
    "    l.append(ele[\"Average_test_error\"])\n",
    "    print(ele[\"Average_test_error\"])\n",
    "print(min(np.array(l)))"
   ]
  },
  {
   "cell_type": "code",
   "execution_count": 78,
   "id": "specified-broadway",
   "metadata": {},
   "outputs": [],
   "source": [
    "model = Linear_Regression()\n",
    "model.fit(train_standard, train_y, 0.001, 50, None, 'l1', 0.0001, None)"
   ]
  },
  {
   "cell_type": "code",
   "execution_count": 79,
   "id": "respected-upgrade",
   "metadata": {},
   "outputs": [
    {
     "data": {
      "text/plain": [
       "5.363014080274614"
      ]
     },
     "execution_count": 79,
     "metadata": {},
     "output_type": "execute_result"
    }
   ],
   "source": [
    "pred_Y = model.predict(test_standard)\n",
    "err = mse(test_y, pred_Y)\n",
    "err"
   ]
  },
  {
   "cell_type": "code",
   "execution_count": 80,
   "id": "asian-webmaster",
   "metadata": {},
   "outputs": [
    {
     "name": "stdout",
     "output_type": "stream",
     "text": [
      "(76, 165)\n",
      "(76, 165)\n",
      "(76, 165)\n",
      "(76, 165)\n",
      "(76, 165)\n",
      "(156, 165)\n",
      "(156, 165)\n",
      "(156, 165)\n",
      "(156, 165)\n",
      "(156, 165)\n",
      "(236, 165)\n",
      "(236, 165)\n",
      "(236, 165)\n",
      "(236, 165)\n",
      "(236, 165)\n",
      "(316, 165)\n",
      "(316, 165)\n",
      "(316, 165)\n",
      "(316, 165)\n",
      "(316, 165)\n",
      "(396, 165)\n",
      "(396, 165)\n",
      "(396, 165)\n",
      "(396, 165)\n",
      "(396, 165)\n",
      "(472, 165)\n",
      "(472, 165)\n",
      "(472, 165)\n",
      "(472, 165)\n",
      "(472, 165)\n",
      "(552, 165)\n",
      "(552, 165)\n",
      "(552, 165)\n",
      "(552, 165)\n",
      "(552, 165)\n",
      "(632, 165)\n",
      "(632, 165)\n",
      "(632, 165)\n",
      "(632, 165)\n",
      "(632, 165)\n",
      "(712, 165)\n",
      "(712, 165)\n",
      "(712, 165)\n",
      "(712, 165)\n",
      "(712, 165)\n",
      "(792, 165)\n",
      "(792, 165)\n",
      "(792, 165)\n",
      "(792, 165)\n",
      "(792, 165)\n",
      "(868, 165)\n",
      "(868, 165)\n",
      "(868, 165)\n",
      "(868, 165)\n",
      "(868, 165)\n",
      "(948, 165)\n",
      "(948, 165)\n",
      "(948, 165)\n",
      "(948, 165)\n",
      "(948, 165)\n",
      "(1028, 165)\n",
      "(1028, 165)\n",
      "(1028, 165)\n",
      "(1028, 165)\n",
      "(1028, 165)\n",
      "(1108, 165)\n",
      "(1108, 165)\n",
      "(1108, 165)\n",
      "(1108, 165)\n",
      "(1108, 165)\n",
      "(1188, 165)\n",
      "(1188, 165)\n",
      "(1188, 165)\n",
      "(1188, 165)\n",
      "(1188, 165)\n",
      "(1264, 165)\n",
      "(1264, 165)\n",
      "(1264, 165)\n",
      "(1264, 165)\n",
      "(1264, 165)\n",
      "(1344, 165)\n",
      "(1344, 165)\n",
      "(1344, 165)\n",
      "(1344, 165)\n",
      "(1344, 165)\n",
      "(1424, 165)\n",
      "(1424, 165)\n",
      "(1424, 165)\n",
      "(1424, 165)\n",
      "(1424, 165)\n",
      "(1504, 165)\n",
      "(1504, 165)\n",
      "(1504, 165)\n",
      "(1504, 165)\n",
      "(1504, 165)\n",
      "(1584, 165)\n",
      "(1584, 165)\n",
      "(1584, 165)\n",
      "(1584, 165)\n",
      "(1584, 165)\n",
      "(1660, 165)\n",
      "(1660, 165)\n",
      "(1660, 165)\n",
      "(1660, 165)\n",
      "(1660, 165)\n",
      "(1740, 165)\n",
      "(1740, 165)\n",
      "(1740, 165)\n",
      "(1740, 165)\n",
      "(1740, 165)\n",
      "(1820, 165)\n",
      "(1820, 165)\n",
      "(1820, 165)\n",
      "(1820, 165)\n",
      "(1820, 165)\n",
      "(1900, 165)\n",
      "(1900, 165)\n",
      "(1900, 165)\n",
      "(1900, 165)\n",
      "(1900, 165)\n",
      "(1980, 165)\n",
      "(1980, 165)\n",
      "(1980, 165)\n",
      "(1980, 165)\n",
      "(1980, 165)\n",
      "(2056, 165)\n",
      "(2056, 165)\n",
      "(2056, 165)\n",
      "(2056, 165)\n",
      "(2056, 165)\n",
      "(2136, 165)\n",
      "(2136, 165)\n",
      "(2136, 165)\n",
      "(2136, 165)\n",
      "(2136, 165)\n",
      "(2216, 165)\n",
      "(2216, 165)\n",
      "(2216, 165)\n",
      "(2216, 165)\n",
      "(2216, 165)\n",
      "(2296, 165)\n",
      "(2296, 165)\n",
      "(2296, 165)\n",
      "(2296, 165)\n",
      "(2296, 165)\n",
      "(2376, 165)\n",
      "(2376, 165)\n",
      "(2376, 165)\n",
      "(2376, 165)\n",
      "(2376, 165)\n",
      "(2452, 165)\n",
      "(2452, 165)\n",
      "(2452, 165)\n",
      "(2452, 165)\n",
      "(2452, 165)\n",
      "(2532, 165)\n",
      "(2532, 165)\n",
      "(2532, 165)\n",
      "(2532, 165)\n",
      "(2532, 165)\n"
     ]
    }
   ],
   "source": [
    "train_err, val_err = train_val_mse(model, train_standard, train_y, 5, 100, 0.001, 50, None, 'l1', 0.0001, None)"
   ]
  },
  {
   "cell_type": "code",
   "execution_count": 81,
   "id": "suburban-concentration",
   "metadata": {},
   "outputs": [
    {
     "data": {
      "image/png": "[encoded data removed]",
      "text/plain": [
       "<Figure size 648x648 with 1 Axes>"
      ]
     },
     "metadata": {
      "needs_background": "light"
     },
     "output_type": "display_data"
    },
    {
     "data": {
      "text/plain": [
       "<Figure size 648x648 with 0 Axes>"
      ]
     },
     "metadata": {},
     "output_type": "display_data"
    }
   ],
   "source": [
    "plot_fun(train_err, val_err)"
   ]
  },
  {
   "cell_type": "code",
   "execution_count": null,
   "id": "bearing-settle",
   "metadata": {},
   "outputs": [],
   "source": []
  },
  {
   "cell_type": "code",
   "execution_count": null,
   "id": "specified-taxation",
   "metadata": {},
   "outputs": [],
   "source": []
  },
  {
   "cell_type": "code",
   "execution_count": null,
   "id": "quiet-appraisal",
   "metadata": {},
   "outputs": [],
   "source": []
  },
  {
   "cell_type": "code",
   "execution_count": null,
   "id": "characteristic-license",
   "metadata": {},
   "outputs": [],
   "source": []
  },
  {
   "cell_type": "code",
   "execution_count": null,
   "id": "formed-fantasy",
   "metadata": {},
   "outputs": [],
   "source": []
  }
 ],
 "metadata": {
  "kernelspec": {
   "display_name": "Python 3",
   "language": "python",
   "name": "python3"
  },
  "language_info": {
   "codemirror_mode": {
    "name": "ipython",
    "version": 3
   },
   "file_extension": ".py",
   "mimetype": "text/x-python",
   "name": "python",
   "nbconvert_exporter": "python",
   "pygments_lexer": "ipython3",
   "version": "3.7.10"
  }
 },
 "nbformat": 4,
 "nbformat_minor": 5
}
